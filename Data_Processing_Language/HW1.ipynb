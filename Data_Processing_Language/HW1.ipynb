{
 "cells": [
  {
   "cell_type": "markdown",
   "metadata": {},
   "source": [
    "# 2주차과제_21512023정주현\n",
    "### [홀짝 판별]"
   ]
  },
  {
   "cell_type": "code",
   "execution_count": 1,
   "metadata": {},
   "outputs": [
    {
     "name": "stdout",
     "output_type": "stream",
     "text": [
      "자연수를 입력하세요 : \n",
      "23\n",
      "odd\n"
     ]
    }
   ],
   "source": [
    "print('자연수를 입력하세요 : ')\n",
    "num = int(input())\n",
    "\n",
    "if num % 2 == 0:\n",
    "    print('even')\n",
    "else :\n",
    "    print('odd')"
   ]
  },
  {
   "cell_type": "markdown",
   "metadata": {},
   "source": [
    "### [별 출력]"
   ]
  },
  {
   "cell_type": "code",
   "execution_count": 2,
   "metadata": {},
   "outputs": [
    {
     "name": "stdout",
     "output_type": "stream",
     "text": [
      "몇 층의 별을 만들까요? n입력 :\n",
      "5\n",
      "**\n",
      " **\n",
      "  **\n",
      "   **\n",
      "    **\n"
     ]
    }
   ],
   "source": [
    "print('몇 층의 별을 만들까요? n입력 :')\n",
    "star = int(input())\n",
    "for _ in range(star):\n",
    "    print(_*' ',end='')\n",
    "    print('**')"
   ]
  }
 ],
 "metadata": {
  "kernelspec": {
   "display_name": "Python 3",
   "language": "python",
   "name": "python3"
  },
  "language_info": {
   "codemirror_mode": {
    "name": "ipython",
    "version": 3
   },
   "file_extension": ".py",
   "mimetype": "text/x-python",
   "name": "python",
   "nbconvert_exporter": "python",
   "pygments_lexer": "ipython3",
   "version": "3.7.6"
  }
 },
 "nbformat": 4,
 "nbformat_minor": 4
}
