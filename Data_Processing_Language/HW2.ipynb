{
 "cells": [
  {
   "cell_type": "markdown",
   "id": "cfbe00a0",
   "metadata": {},
   "source": [
    "## 3주차과제_21512023정주현\n",
    "#### 1. 어떤 수 n이 입력되었을 때, 그 수를 뒤집어서 출력하는 코드 구현."
   ]
  },
  {
   "cell_type": "code",
   "execution_count": 1,
   "id": "bc2bd691",
   "metadata": {},
   "outputs": [
    {
     "name": "stdout",
     "output_type": "stream",
     "text": [
      "n 입력 : 2571\n",
      "1752\n"
     ]
    }
   ],
   "source": [
    "print('n 입력 : ', end='')\n",
    "n1 = input()\n",
    "print(n1[::-1])"
   ]
  },
  {
   "cell_type": "markdown",
   "id": "eb68324b",
   "metadata": {},
   "source": [
    "#### 2. 자연수 n이 입력되면,  n을 뒤집어 각 자리 숫자를 원소로 가지는 리스트 형태로 출력하는 코드 구현."
   ]
  },
  {
   "cell_type": "code",
   "execution_count": 2,
   "id": "847220bd",
   "metadata": {},
   "outputs": [
    {
     "name": "stdout",
     "output_type": "stream",
     "text": [
      "n 입력 : 56789\n",
      "['9', '8', '7', '6', '5']\n"
     ]
    }
   ],
   "source": [
    "print('n 입력 : ', end='')\n",
    "n2 = input()\n",
    "print(list(n2)[::-1])"
   ]
  },
  {
   "cell_type": "markdown",
   "id": "ba57080e",
   "metadata": {},
   "source": [
    "#### 3.  숫자 n이 입력되면, n개의 랜덤 숫자가 다음 줄에 순서대로 입력됨.  그 중 가장 작은 수 1개를 출력하는 코드 구현"
   ]
  },
  {
   "cell_type": "code",
   "execution_count": 3,
   "id": "485123a8",
   "metadata": {},
   "outputs": [
    {
     "name": "stdout",
     "output_type": "stream",
     "text": [
      "n 입력 : 6\n",
      "6 개의 랜덤 숫자 입력 : 8 10 2 3 4 12\n",
      "2\n"
     ]
    }
   ],
   "source": [
    "print('n 입력 : ', end='')\n",
    "n3 = int(input())\n",
    "print(n3,'개의 랜덤 숫자 입력 : ',end='')\n",
    "lst1 = list(map(int,input().split()))\n",
    "print(min(lst1))"
   ]
  },
  {
   "cell_type": "markdown",
   "id": "90671cf1",
   "metadata": {},
   "source": [
    "#### 4.  숫자 n이 입력되면, n개의 랜덤 숫자가 다음 줄에 순서대로 입력됨. 그 중 최댓값과 최댓값이 몇 번째 수인지 출력하는 코드 구현."
   ]
  },
  {
   "cell_type": "code",
   "execution_count": 4,
   "id": "bea51f67",
   "metadata": {},
   "outputs": [
    {
     "name": "stdout",
     "output_type": "stream",
     "text": [
      "n 입력 : 6\n",
      "6 개의 랜덤 숫자 입력 : 8 10 2 3 4 12\n",
      "12\n",
      "6\n"
     ]
    }
   ],
   "source": [
    "print('n 입력 : ', end='')\n",
    "n4 = int(input())\n",
    "print(n4,'개의 랜덤 숫자 입력 : ',end='')\n",
    "lst2 = list(map(int,input().split()))\n",
    "max_num = max(lst2)\n",
    "print(max_num,lst2.index(max_num)+1,sep='\\n')"
   ]
  }
 ],
 "metadata": {
  "kernelspec": {
   "display_name": "Python 3",
   "language": "python",
   "name": "python3"
  },
  "language_info": {
   "codemirror_mode": {
    "name": "ipython",
    "version": 3
   },
   "file_extension": ".py",
   "mimetype": "text/x-python",
   "name": "python",
   "nbconvert_exporter": "python",
   "pygments_lexer": "ipython3",
   "version": "3.8.8"
  }
 },
 "nbformat": 4,
 "nbformat_minor": 5
}
