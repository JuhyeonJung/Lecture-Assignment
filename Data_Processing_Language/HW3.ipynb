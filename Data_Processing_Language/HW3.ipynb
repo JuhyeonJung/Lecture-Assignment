{
 "cells": [
  {
   "cell_type": "markdown",
   "metadata": {},
   "source": [
    "## 6주차과제_21512023정주현\n",
    "#### [클래스1]\n",
    "\n",
    "원의 둘레, 넓이를 구하는 클래스 구현\n",
    "\n",
    "생성자 : 원의 반지름\n",
    "\n",
    "메소드 : 원의 둘레, 원의 넓이 "
   ]
  },
  {
   "cell_type": "code",
   "execution_count": 1,
   "metadata": {},
   "outputs": [],
   "source": [
    "import math"
   ]
  },
  {
   "cell_type": "code",
   "execution_count": 2,
   "metadata": {},
   "outputs": [],
   "source": [
    "class Class1(object):\n",
    "    def __init__(self,r):\n",
    "        self.r = r\n",
    "    def calcCircum(self):\n",
    "        return math.pi*2*self.r\n",
    "    def calcArea(self):\n",
    "        return math.pi*self.r**2"
   ]
  },
  {
   "cell_type": "code",
   "execution_count": null,
   "metadata": {},
   "outputs": [],
   "source": [
    "c1 = Class1(10)\n",
    "print(c1.calcCircum())"
   ]
  },
  {
   "cell_type": "markdown",
   "metadata": {},
   "source": [
    "#### [클래스2]\n",
    "\n",
    "구구단 계산 클래스 구현 \n",
    "\n",
    "생성자 : 구구단 계산할 숫자 (자연수 1~9)\n",
    "\n",
    "메소드 : 구구단 계산 (출력 형식은 아래와 같음)"
   ]
  },
  {
   "cell_type": "code",
   "execution_count": 4,
   "metadata": {},
   "outputs": [],
   "source": [
    "class Class2(object):\n",
    "    def __init__(self,num):\n",
    "        self.num=num\n",
    "    def gugudan(self):\n",
    "        for x in range(1,10):\n",
    "            print(self.num,' x ',x,' = ',self.num*x,end='')\n",
    "            print()"
   ]
  },
  {
   "cell_type": "code",
   "execution_count": 5,
   "metadata": {},
   "outputs": [
    {
     "name": "stdout",
     "output_type": "stream",
     "text": [
      "5  x  1  =  5\n",
      "5  x  2  =  10\n",
      "5  x  3  =  15\n",
      "5  x  4  =  20\n",
      "5  x  5  =  25\n",
      "5  x  6  =  30\n",
      "5  x  7  =  35\n",
      "5  x  8  =  40\n",
      "5  x  9  =  45\n"
     ]
    }
   ],
   "source": [
    "c2=Class2(5)\n",
    "c2.gugudan()"
   ]
  }
 ],
 "metadata": {
  "kernelspec": {
   "display_name": "Python 3",
   "language": "python",
   "name": "python3"
  },
  "language_info": {
   "codemirror_mode": {
    "name": "ipython",
    "version": 3
   },
   "file_extension": ".py",
   "mimetype": "text/x-python",
   "name": "python",
   "nbconvert_exporter": "python",
   "pygments_lexer": "ipython3",
   "version": "3.7.6"
  }
 },
 "nbformat": 4,
 "nbformat_minor": 5
}
