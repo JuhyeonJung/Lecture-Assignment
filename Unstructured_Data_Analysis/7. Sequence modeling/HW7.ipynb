{
 "cells": [
  {
   "cell_type": "code",
   "execution_count": 1,
   "metadata": {},
   "outputs": [],
   "source": [
    "import numpy as np\n",
    "from tensorflow.keras.datasets import reuters\n",
    "from keras.preprocessing.sequence import pad_sequences\n",
    "from tensorflow.keras.utils import to_categorical\n",
    "from sklearn.metrics import accuracy_score\n",
    "from keras.layers import SimpleRNN, Activation, LSTM\n",
    "from keras import optimizers\n",
    "from keras.wrappers.scikit_learn import KerasClassifier"
   ]
  },
  {
   "cell_type": "markdown",
   "metadata": {},
   "source": [
    "## reuters News Classification\n",
    "\n",
    "##### 1) Simple RNN Model\n",
    "##### 2) LSTM \n",
    "\n",
    "\n",
    "-  epoch : 50\n",
    "- batch_size : 32\n",
    "- optimizer : adam\n",
    "- loss function : categorical_crossentorpy\n",
    "- model accuracy 출력"
   ]
  },
  {
   "cell_type": "markdown",
   "metadata": {},
   "source": [
    "## 데이터 로드"
   ]
  },
  {
   "cell_type": "code",
   "execution_count": 6,
   "metadata": {},
   "outputs": [],
   "source": [
    "(X_train, y_train), (X_test, y_test) = reuters.load_data(num_words=1000, test_split=0.2)"
   ]
  },
  {
   "cell_type": "code",
   "execution_count": 7,
   "metadata": {},
   "outputs": [
    {
     "name": "stdout",
     "output_type": "stream",
     "text": [
      "훈련용 뉴스 기사 : 8982\n",
      "테스트용 뉴스 기사 : 2246\n",
      "카테고리 : 46\n"
     ]
    }
   ],
   "source": [
    "print('훈련용 뉴스 기사 : {}'.format(len(X_train)))\n",
    "print('테스트용 뉴스 기사 : {}'.format(len(X_test)))\n",
    "num_classes = len(set(y_train))\n",
    "print('카테고리 : {}'.format(num_classes))"
   ]
  },
  {
   "cell_type": "code",
   "execution_count": 8,
   "metadata": {},
   "outputs": [],
   "source": [
    "# 모든 뉴스 기사의 길이를 100으로 동일하게 패딩\n",
    "max_len = 100\n",
    "X_train = pad_sequences(X_train, maxlen=max_len)\n",
    "X_test = pad_sequences(X_test, maxlen=max_len)"
   ]
  },
  {
   "cell_type": "code",
   "execution_count": 9,
   "metadata": {},
   "outputs": [],
   "source": [
    "#뉴스 기사 데이터의 레이블에 원-핫 인코딩\n",
    "y_train = to_categorical(y_train)\n",
    "y_test = to_categorical(y_test)"
   ]
  },
  {
   "cell_type": "markdown",
   "metadata": {},
   "source": [
    "## Simple RNN"
   ]
  },
  {
   "cell_type": "code",
   "execution_count": 14,
   "metadata": {},
   "outputs": [],
   "source": [
    "from keras.layers import Dense\n",
    "from tensorflow.keras.callbacks import EarlyStopping, ModelCheckpoint\n",
    "from tensorflow.keras.models import Sequential\n",
    "from tensorflow.keras.layers import Embedding"
   ]
  },
  {
   "cell_type": "code",
   "execution_count": 19,
   "metadata": {},
   "outputs": [],
   "source": [
    "#각 타임스텝의 출력을 모은 전체 시퀀스를 반환\n",
    "vocab_size = 1000\n",
    "embedding_dim = 128\n",
    "hidden_units = 128\n",
    "\n",
    "\n",
    "model1 = Sequential()\n",
    "model1.add(Embedding(vocab_size, embedding_dim)) # 128의 차원을 가지는 임베딩 벡터를 1,000개 생성\n",
    "model1.add(SimpleRNN(hidden_units))  #층 개수\n",
    "model1.add(Dense(num_classes, activation='softmax'))"
   ]
  },
  {
   "cell_type": "code",
   "execution_count": 20,
   "metadata": {},
   "outputs": [],
   "source": [
    "model1.compile(loss='categorical_crossentropy', optimizer='adam', metrics=['acc'])"
   ]
  },
  {
   "cell_type": "code",
   "execution_count": 21,
   "metadata": {},
   "outputs": [
    {
     "name": "stdout",
     "output_type": "stream",
     "text": [
      "Epoch 1/50\n",
      "281/281 [==============================] - 5s 15ms/step - loss: 2.3186 - acc: 0.3861 - val_loss: 2.2031 - val_acc: 0.4256\n",
      "Epoch 2/50\n",
      "281/281 [==============================] - 5s 17ms/step - loss: 2.0052 - acc: 0.4802 - val_loss: 1.9794 - val_acc: 0.4768\n",
      "Epoch 3/50\n",
      "281/281 [==============================] - 5s 18ms/step - loss: 1.8106 - acc: 0.5361 - val_loss: 2.0416 - val_acc: 0.4693\n",
      "Epoch 4/50\n",
      "281/281 [==============================] - 4s 14ms/step - loss: 1.6112 - acc: 0.5766 - val_loss: 1.9777 - val_acc: 0.4795\n",
      "Epoch 5/50\n",
      "281/281 [==============================] - 4s 15ms/step - loss: 1.4022 - acc: 0.6403 - val_loss: 1.9514 - val_acc: 0.5116\n",
      "Epoch 6/50\n",
      "281/281 [==============================] - 5s 19ms/step - loss: 1.2823 - acc: 0.6689 - val_loss: 2.1633 - val_acc: 0.4782\n",
      "Epoch 7/50\n",
      "281/281 [==============================] - 5s 19ms/step - loss: 1.1915 - acc: 0.6840 - val_loss: 2.2619 - val_acc: 0.4555\n",
      "Epoch 8/50\n",
      "281/281 [==============================] - 4s 15ms/step - loss: 1.0246 - acc: 0.7271 - val_loss: 2.0517 - val_acc: 0.5107\n",
      "Epoch 9/50\n",
      "281/281 [==============================] - 5s 18ms/step - loss: 0.8575 - acc: 0.7743 - val_loss: 2.2006 - val_acc: 0.5013\n",
      "Epoch 10/50\n",
      "281/281 [==============================] - 5s 19ms/step - loss: 0.7675 - acc: 0.7943 - val_loss: 2.2923 - val_acc: 0.5093\n",
      "Epoch 11/50\n",
      "281/281 [==============================] - 4s 15ms/step - loss: 0.6355 - acc: 0.8309 - val_loss: 2.3223 - val_acc: 0.5138\n",
      "Epoch 12/50\n",
      "281/281 [==============================] - 5s 17ms/step - loss: 0.5392 - acc: 0.8556 - val_loss: 2.3983 - val_acc: 0.5129\n",
      "Epoch 13/50\n",
      "281/281 [==============================] - 5s 19ms/step - loss: 0.4901 - acc: 0.8677 - val_loss: 2.5470 - val_acc: 0.5062\n",
      "Epoch 14/50\n",
      "281/281 [==============================] - 4s 15ms/step - loss: 0.4301 - acc: 0.8871 - val_loss: 2.6333 - val_acc: 0.4947\n",
      "Epoch 15/50\n",
      "281/281 [==============================] - 4s 14ms/step - loss: 0.3981 - acc: 0.8926 - val_loss: 2.7536 - val_acc: 0.4907\n",
      "Epoch 16/50\n",
      "281/281 [==============================] - 5s 18ms/step - loss: 0.3696 - acc: 0.8981 - val_loss: 2.6888 - val_acc: 0.5093\n",
      "Epoch 17/50\n",
      "281/281 [==============================] - 5s 17ms/step - loss: 0.3084 - acc: 0.9167 - val_loss: 2.8150 - val_acc: 0.4987\n",
      "Epoch 18/50\n",
      "281/281 [==============================] - 4s 15ms/step - loss: 0.3834 - acc: 0.8912 - val_loss: 2.8868 - val_acc: 0.4800\n",
      "Epoch 19/50\n",
      "281/281 [==============================] - 5s 16ms/step - loss: 0.4258 - acc: 0.8702 - val_loss: 2.8988 - val_acc: 0.5062\n",
      "Epoch 20/50\n",
      "281/281 [==============================] - 5s 19ms/step - loss: 0.2396 - acc: 0.9345 - val_loss: 2.8785 - val_acc: 0.5116\n",
      "Epoch 21/50\n",
      "281/281 [==============================] - 4s 15ms/step - loss: 0.2798 - acc: 0.9194 - val_loss: 3.1917 - val_acc: 0.4443\n",
      "Epoch 22/50\n",
      "281/281 [==============================] - 4s 15ms/step - loss: 0.3763 - acc: 0.8889 - val_loss: 3.0688 - val_acc: 0.4853\n",
      "Epoch 23/50\n",
      "281/281 [==============================] - 5s 18ms/step - loss: 0.2216 - acc: 0.9380 - val_loss: 3.0193 - val_acc: 0.5000\n",
      "Epoch 24/50\n",
      "281/281 [==============================] - 5s 18ms/step - loss: 0.1998 - acc: 0.9432 - val_loss: 3.1396 - val_acc: 0.5000\n",
      "Epoch 25/50\n",
      "281/281 [==============================] - 4s 16ms/step - loss: 0.1808 - acc: 0.9457 - val_loss: 3.1864 - val_acc: 0.5022\n",
      "Epoch 26/50\n",
      "281/281 [==============================] - 5s 18ms/step - loss: 0.1887 - acc: 0.9441 - val_loss: 3.1809 - val_acc: 0.5000\n",
      "Epoch 27/50\n",
      "281/281 [==============================] - 6s 20ms/step - loss: 0.1905 - acc: 0.9431 - val_loss: 3.1532 - val_acc: 0.5049\n",
      "Epoch 28/50\n",
      "281/281 [==============================] - 5s 17ms/step - loss: 0.1932 - acc: 0.9409 - val_loss: 3.2667 - val_acc: 0.4817\n",
      "Epoch 29/50\n",
      "281/281 [==============================] - 4s 16ms/step - loss: 0.2384 - acc: 0.9279 - val_loss: 3.2518 - val_acc: 0.4786\n",
      "Epoch 30/50\n",
      "281/281 [==============================] - 5s 19ms/step - loss: 0.2439 - acc: 0.9265 - val_loss: 3.3570 - val_acc: 0.4902\n",
      "Epoch 31/50\n",
      "281/281 [==============================] - 5s 18ms/step - loss: 0.1948 - acc: 0.9403 - val_loss: 3.4019 - val_acc: 0.4813\n",
      "Epoch 32/50\n",
      "281/281 [==============================] - 4s 15ms/step - loss: 0.1888 - acc: 0.9407 - val_loss: 3.3520 - val_acc: 0.5027\n",
      "Epoch 33/50\n",
      "281/281 [==============================] - 5s 19ms/step - loss: 0.1851 - acc: 0.9410 - val_loss: 3.2547 - val_acc: 0.5049\n",
      "Epoch 34/50\n",
      "281/281 [==============================] - 5s 19ms/step - loss: 0.1798 - acc: 0.9437 - val_loss: 3.3327 - val_acc: 0.4973\n",
      "Epoch 35/50\n",
      "281/281 [==============================] - 5s 16ms/step - loss: 0.5614 - acc: 0.8307 - val_loss: 3.2223 - val_acc: 0.4746\n",
      "Epoch 36/50\n",
      "281/281 [==============================] - 5s 17ms/step - loss: 0.2541 - acc: 0.9213 - val_loss: 3.2661 - val_acc: 0.4907\n",
      "Epoch 37/50\n",
      "281/281 [==============================] - 5s 19ms/step - loss: 0.1821 - acc: 0.9417 - val_loss: 3.3760 - val_acc: 0.4915\n",
      "Epoch 38/50\n",
      "281/281 [==============================] - 5s 17ms/step - loss: 0.1571 - acc: 0.9480 - val_loss: 3.3787 - val_acc: 0.4951\n",
      "Epoch 39/50\n",
      "281/281 [==============================] - 4s 15ms/step - loss: 0.1472 - acc: 0.9501 - val_loss: 3.3948 - val_acc: 0.4924\n",
      "Epoch 40/50\n",
      "281/281 [==============================] - 5s 18ms/step - loss: 0.1576 - acc: 0.9470 - val_loss: 3.3603 - val_acc: 0.4987\n",
      "Epoch 41/50\n",
      "281/281 [==============================] - 5s 17ms/step - loss: 0.2720 - acc: 0.9109 - val_loss: 3.4209 - val_acc: 0.4911\n",
      "Epoch 42/50\n",
      "281/281 [==============================] - 4s 14ms/step - loss: 0.1911 - acc: 0.9388 - val_loss: 3.4731 - val_acc: 0.4920\n",
      "Epoch 43/50\n",
      "281/281 [==============================] - 4s 16ms/step - loss: 0.1785 - acc: 0.9395 - val_loss: 3.4635 - val_acc: 0.4973\n",
      "Epoch 44/50\n",
      "281/281 [==============================] - 5s 19ms/step - loss: 0.1791 - acc: 0.9407 - val_loss: 3.4247 - val_acc: 0.5031\n",
      "Epoch 45/50\n",
      "281/281 [==============================] - 4s 15ms/step - loss: 0.1531 - acc: 0.9483 - val_loss: 3.5348 - val_acc: 0.4858\n",
      "Epoch 46/50\n",
      "281/281 [==============================] - 4s 14ms/step - loss: 0.1689 - acc: 0.9399 - val_loss: 3.5227 - val_acc: 0.4973\n",
      "Epoch 47/50\n",
      "281/281 [==============================] - 5s 18ms/step - loss: 0.1737 - acc: 0.9399 - val_loss: 3.5177 - val_acc: 0.5022\n",
      "Epoch 48/50\n",
      "281/281 [==============================] - 5s 17ms/step - loss: 0.1641 - acc: 0.9438 - val_loss: 3.4663 - val_acc: 0.5049\n",
      "Epoch 49/50\n",
      "281/281 [==============================] - 4s 14ms/step - loss: 0.1583 - acc: 0.9463 - val_loss: 3.4672 - val_acc: 0.5000\n",
      "Epoch 50/50\n",
      "281/281 [==============================] - 4s 15ms/step - loss: 0.1562 - acc: 0.9482 - val_loss: 3.5313 - val_acc: 0.4996\n"
     ]
    }
   ],
   "source": [
    "history = model1.fit(X_train, y_train, batch_size=32, epochs=50, validation_data=(X_test, y_test))"
   ]
  },
  {
   "cell_type": "code",
   "execution_count": 22,
   "metadata": {},
   "outputs": [
    {
     "data": {
      "image/png": "[encoded data removed]",
      "text/plain": [
       "<Figure size 432x288 with 1 Axes>"
      ]
     },
     "metadata": {
      "needs_background": "light"
     },
     "output_type": "display_data"
    }
   ],
   "source": [
    "import matplotlib.pyplot as plt\n",
    "\n",
    "acc = history.history['acc']\n",
    "val_acc = history.history['val_acc']\n",
    "\n",
    "\n",
    "epochs = range(1, len(acc) + 1)\n",
    "\n",
    "plt.plot(epochs, acc, 'bo', label='Training acc')\n",
    "plt.plot(epochs, val_acc, 'b', label='Validation acc')\n",
    "plt.title('Training and validation accuracy')\n",
    "plt.legend()\n",
    "plt.show()"
   ]
  },
  {
   "cell_type": "markdown",
   "metadata": {},
   "source": [
    "## LSTM"
   ]
  },
  {
   "cell_type": "code",
   "execution_count": 15,
   "metadata": {},
   "outputs": [],
   "source": [
    "vocab_size = 1000\n",
    "embedding_dim = 128\n",
    "hidden_units = 128\n",
    "\n",
    "model2 = Sequential()\n",
    "model2.add(Embedding(vocab_size, embedding_dim)) # 128의 차원을 가지는 임베딩 벡터를 1,000개 생성\n",
    "model2.add(LSTM(hidden_units))\n",
    "model2.add(Dense(num_classes, activation='softmax'))"
   ]
  },
  {
   "cell_type": "code",
   "execution_count": 16,
   "metadata": {},
   "outputs": [],
   "source": [
    "model2.compile(loss='categorical_crossentropy', optimizer='adam', metrics=['acc'])"
   ]
  },
  {
   "cell_type": "code",
   "execution_count": 17,
   "metadata": {
    "scrolled": true
   },
   "outputs": [
    {
     "name": "stdout",
     "output_type": "stream",
     "text": [
      "Epoch 1/50\n",
      "281/281 [==============================] - 13s 44ms/step - loss: 2.3357 - acc: 0.4097 - val_loss: 2.0368 - val_acc: 0.4978\n",
      "Epoch 2/50\n",
      "281/281 [==============================] - 12s 42ms/step - loss: 1.9196 - acc: 0.5055 - val_loss: 1.7857 - val_acc: 0.5432\n",
      "Epoch 3/50\n",
      "281/281 [==============================] - 12s 42ms/step - loss: 1.7494 - acc: 0.5495 - val_loss: 1.7061 - val_acc: 0.5695\n",
      "Epoch 4/50\n",
      "281/281 [==============================] - 12s 41ms/step - loss: 1.6566 - acc: 0.5774 - val_loss: 1.6434 - val_acc: 0.5873\n",
      "Epoch 5/50\n",
      "281/281 [==============================] - 12s 41ms/step - loss: 1.5594 - acc: 0.6052 - val_loss: 1.5789 - val_acc: 0.6020\n",
      "Epoch 6/50\n",
      "281/281 [==============================] - 12s 42ms/step - loss: 1.4764 - acc: 0.6340 - val_loss: 1.5118 - val_acc: 0.6305\n",
      "Epoch 7/50\n",
      "281/281 [==============================] - 12s 42ms/step - loss: 1.3902 - acc: 0.6585 - val_loss: 1.4992 - val_acc: 0.6469\n",
      "Epoch 8/50\n",
      "281/281 [==============================] - 12s 43ms/step - loss: 1.3031 - acc: 0.6809 - val_loss: 1.4030 - val_acc: 0.6558\n",
      "Epoch 9/50\n",
      "281/281 [==============================] - 12s 44ms/step - loss: 1.2142 - acc: 0.6958 - val_loss: 1.3287 - val_acc: 0.6719\n",
      "Epoch 10/50\n",
      "281/281 [==============================] - 12s 43ms/step - loss: 1.1378 - acc: 0.7122 - val_loss: 1.2786 - val_acc: 0.6736\n",
      "Epoch 11/50\n",
      "281/281 [==============================] - 13s 45ms/step - loss: 1.0664 - acc: 0.7308 - val_loss: 1.2428 - val_acc: 0.6888\n",
      "Epoch 12/50\n",
      "281/281 [==============================] - 12s 44ms/step - loss: 1.0060 - acc: 0.7450 - val_loss: 1.2525 - val_acc: 0.6830\n",
      "Epoch 13/50\n",
      "281/281 [==============================] - 12s 44ms/step - loss: 0.9415 - acc: 0.7637 - val_loss: 1.2137 - val_acc: 0.7088\n",
      "Epoch 14/50\n",
      "281/281 [==============================] - 12s 44ms/step - loss: 0.8751 - acc: 0.7830 - val_loss: 1.1891 - val_acc: 0.7204\n",
      "Epoch 15/50\n",
      "281/281 [==============================] - 13s 46ms/step - loss: 0.8356 - acc: 0.7886 - val_loss: 1.1724 - val_acc: 0.7199\n",
      "Epoch 16/50\n",
      "281/281 [==============================] - 14s 48ms/step - loss: 0.7871 - acc: 0.8019 - val_loss: 1.1652 - val_acc: 0.7164\n",
      "Epoch 17/50\n",
      "281/281 [==============================] - 14s 50ms/step - loss: 0.7456 - acc: 0.8147 - val_loss: 1.1764 - val_acc: 0.7275\n",
      "Epoch 18/50\n",
      "281/281 [==============================] - 15s 54ms/step - loss: 0.7053 - acc: 0.8248 - val_loss: 1.1905 - val_acc: 0.7248\n",
      "Epoch 19/50\n",
      "281/281 [==============================] - 15s 54ms/step - loss: 0.6727 - acc: 0.8350 - val_loss: 1.2133 - val_acc: 0.7146\n",
      "Epoch 20/50\n",
      "281/281 [==============================] - 15s 53ms/step - loss: 0.6298 - acc: 0.8432 - val_loss: 1.2129 - val_acc: 0.7240\n",
      "Epoch 21/50\n",
      "281/281 [==============================] - 15s 53ms/step - loss: 0.6020 - acc: 0.8511 - val_loss: 1.2197 - val_acc: 0.7248\n",
      "Epoch 22/50\n",
      "281/281 [==============================] - 16s 56ms/step - loss: 0.5662 - acc: 0.8615 - val_loss: 1.2681 - val_acc: 0.7142\n",
      "Epoch 23/50\n",
      "281/281 [==============================] - 16s 56ms/step - loss: 0.5386 - acc: 0.8691 - val_loss: 1.2764 - val_acc: 0.7164\n",
      "Epoch 24/50\n",
      "281/281 [==============================] - 15s 52ms/step - loss: 0.5090 - acc: 0.8765 - val_loss: 1.3055 - val_acc: 0.7168\n",
      "Epoch 25/50\n",
      "281/281 [==============================] - 15s 52ms/step - loss: 0.4779 - acc: 0.8811 - val_loss: 1.3358 - val_acc: 0.7213\n",
      "Epoch 26/50\n",
      "281/281 [==============================] - 14s 50ms/step - loss: 0.4502 - acc: 0.8901 - val_loss: 1.3726 - val_acc: 0.7133\n",
      "Epoch 27/50\n",
      "281/281 [==============================] - 14s 50ms/step - loss: 0.4135 - acc: 0.8999 - val_loss: 1.4106 - val_acc: 0.7173\n",
      "Epoch 28/50\n",
      "281/281 [==============================] - 16s 57ms/step - loss: 0.3928 - acc: 0.9018 - val_loss: 1.4018 - val_acc: 0.7115\n",
      "Epoch 29/50\n",
      "281/281 [==============================] - 15s 54ms/step - loss: 0.4351 - acc: 0.8893 - val_loss: 1.3655 - val_acc: 0.7133\n",
      "Epoch 30/50\n",
      "281/281 [==============================] - 15s 53ms/step - loss: 0.4219 - acc: 0.8908 - val_loss: 1.4193 - val_acc: 0.7053\n",
      "Epoch 31/50\n",
      "281/281 [==============================] - 15s 55ms/step - loss: 0.3576 - acc: 0.9119 - val_loss: 1.4345 - val_acc: 0.7150\n",
      "Epoch 32/50\n",
      "281/281 [==============================] - 16s 58ms/step - loss: 0.3175 - acc: 0.9235 - val_loss: 1.4811 - val_acc: 0.7075\n",
      "Epoch 33/50\n",
      "281/281 [==============================] - 14s 51ms/step - loss: 0.2984 - acc: 0.9264 - val_loss: 1.5195 - val_acc: 0.7070\n",
      "Epoch 34/50\n",
      "281/281 [==============================] - 14s 51ms/step - loss: 0.2819 - acc: 0.9299 - val_loss: 1.5776 - val_acc: 0.7030\n",
      "Epoch 35/50\n",
      "281/281 [==============================] - 15s 52ms/step - loss: 0.2666 - acc: 0.9323 - val_loss: 1.5806 - val_acc: 0.7106\n",
      "Epoch 36/50\n",
      "281/281 [==============================] - 15s 55ms/step - loss: 0.2454 - acc: 0.9387 - val_loss: 1.6391 - val_acc: 0.7102\n",
      "Epoch 37/50\n",
      "281/281 [==============================] - 14s 51ms/step - loss: 0.2314 - acc: 0.9404 - val_loss: 1.6760 - val_acc: 0.7026\n",
      "Epoch 38/50\n",
      "281/281 [==============================] - 14s 51ms/step - loss: 0.2238 - acc: 0.9424 - val_loss: 1.6916 - val_acc: 0.6977\n",
      "Epoch 39/50\n",
      "281/281 [==============================] - 14s 49ms/step - loss: 0.2222 - acc: 0.9402 - val_loss: 1.7216 - val_acc: 0.7061\n",
      "Epoch 40/50\n",
      "281/281 [==============================] - 14s 49ms/step - loss: 0.2145 - acc: 0.9387 - val_loss: 1.7583 - val_acc: 0.7061\n",
      "Epoch 41/50\n",
      "281/281 [==============================] - 15s 53ms/step - loss: 0.1970 - acc: 0.9446 - val_loss: 1.7924 - val_acc: 0.7066\n",
      "Epoch 42/50\n",
      "281/281 [==============================] - 15s 52ms/step - loss: 0.1812 - acc: 0.9464 - val_loss: 1.8110 - val_acc: 0.7061\n",
      "Epoch 43/50\n",
      "281/281 [==============================] - 14s 49ms/step - loss: 0.1808 - acc: 0.9457 - val_loss: 1.7919 - val_acc: 0.7079\n",
      "Epoch 44/50\n",
      "281/281 [==============================] - 14s 50ms/step - loss: 0.1875 - acc: 0.9433 - val_loss: 1.8078 - val_acc: 0.7053\n",
      "Epoch 45/50\n",
      "281/281 [==============================] - 15s 53ms/step - loss: 0.1658 - acc: 0.9472 - val_loss: 1.8743 - val_acc: 0.7088\n",
      "Epoch 46/50\n",
      "281/281 [==============================] - 16s 57ms/step - loss: 0.1513 - acc: 0.9506 - val_loss: 1.8773 - val_acc: 0.7004\n",
      "Epoch 47/50\n",
      "281/281 [==============================] - 15s 52ms/step - loss: 0.1456 - acc: 0.9500 - val_loss: 1.9422 - val_acc: 0.7124\n",
      "Epoch 48/50\n",
      "281/281 [==============================] - 14s 50ms/step - loss: 0.1486 - acc: 0.9486 - val_loss: 1.9421 - val_acc: 0.6906\n",
      "Epoch 49/50\n",
      "281/281 [==============================] - 14s 51ms/step - loss: 0.1447 - acc: 0.9476 - val_loss: 1.9462 - val_acc: 0.7004\n",
      "Epoch 50/50\n",
      "281/281 [==============================] - 15s 55ms/step - loss: 0.1311 - acc: 0.9521 - val_loss: 1.9860 - val_acc: 0.6955\n"
     ]
    }
   ],
   "source": [
    "history = model2.fit(X_train, y_train, batch_size=32, epochs=50, validation_data=(X_test, y_test))"
   ]
  },
  {
   "cell_type": "code",
   "execution_count": 18,
   "metadata": {},
   "outputs": [
    {
     "data": {
      "image/png": "[encoded data removed]",
      "text/plain": [
       "<Figure size 432x288 with 1 Axes>"
      ]
     },
     "metadata": {
      "needs_background": "light"
     },
     "output_type": "display_data"
    }
   ],
   "source": [
    "acc = history.history['acc']\n",
    "val_acc = history.history['val_acc']\n",
    "\n",
    "\n",
    "epochs = range(1, len(acc) + 1)\n",
    "\n",
    "plt.plot(epochs, acc, 'bo', label='Training acc')\n",
    "plt.plot(epochs, val_acc, 'b', label='Validation acc')\n",
    "plt.title('Training and validation accuracy')\n",
    "plt.legend()\n",
    "plt.show()"
   ]
  }
 ],
 "metadata": {
  "kernelspec": {
   "display_name": "Python 3",
   "language": "python",
   "name": "python3"
  },
  "language_info": {
   "codemirror_mode": {
    "name": "ipython",
    "version": 3
   },
   "file_extension": ".py",
   "mimetype": "text/x-python",
   "name": "python",
   "nbconvert_exporter": "python",
   "pygments_lexer": "ipython3",
   "version": "3.8.8"
  }
 },
 "nbformat": 4,
 "nbformat_minor": 4
}
