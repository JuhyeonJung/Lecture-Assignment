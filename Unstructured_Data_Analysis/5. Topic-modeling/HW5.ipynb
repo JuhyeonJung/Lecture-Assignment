{
 "cells": [
  {
   "cell_type": "code",
   "execution_count": 1,
   "metadata": {},
   "outputs": [],
   "source": [
    "import pandas as pd"
   ]
  },
  {
   "cell_type": "markdown",
   "metadata": {},
   "source": [
    "### LDA 실습\n",
    "- 'movie_review.csv' 다운로드 및 전처리 \n",
    "- LDA 모델 생성 (num of topics : 10)\n",
    "- 토픽 별 가장 중요한 단어 5개 출력"
   ]
  },
  {
   "cell_type": "markdown",
   "metadata": {},
   "source": [
    "### 1. 데이터 불러오기 "
   ]
  },
  {
   "cell_type": "code",
   "execution_count": 2,
   "metadata": {},
   "outputs": [],
   "source": [
    "df = pd.read_csv('./movie_review.csv')"
   ]
  },
  {
   "cell_type": "code",
   "execution_count": 3,
   "metadata": {},
   "outputs": [],
   "source": [
    "review = df[['review']].iloc[:20000].copy()"
   ]
  },
  {
   "cell_type": "markdown",
   "metadata": {},
   "source": [
    "### 2. 전처리"
   ]
  },
  {
   "cell_type": "code",
   "execution_count": 4,
   "metadata": {},
   "outputs": [],
   "source": [
    "import re"
   ]
  },
  {
   "cell_type": "code",
   "execution_count": 5,
   "metadata": {},
   "outputs": [],
   "source": [
    "# 텍스트 cleaning 함수\n",
    "def clean_text(text):\n",
    "    \n",
    "    pattern = re.compile('[\\u3131-\\u3163\\uac00-\\ud7a3]+')\n",
    "    text = re.sub(pattern = pattern,repl = ' ',string = text) #한글삭제(인코딩 오류인지,,, 셿 이런 단어가 생기길래 삭제,,)\n",
    "    \n",
    "    pattern = '(\\[a-zA-Z0-9\\_.+-\\]+@\\[a-zA-Z0-9]+.\\[a-zA-Z0-9-.\\]+)' # email제거\n",
    "    text = re.sub(pattern = pattern,repl = ' ',string = text)\n",
    "    \n",
    "    pattern = re.compile(r'([^\\w]?\\d+\\.?\\,?\\)?\\d*)+') # 숫자 제거\n",
    "    text = re.sub(pattern = pattern,repl = ' ',string = text)\n",
    "    \n",
    "    pattern = '<[^>]*>' # html 태그 제거\n",
    "    text = re.sub(pattern = pattern,repl = ' ',string = text)\n",
    "    \n",
    "    pattern = '[\\r|\\n]' # \\r,\\n 제거\n",
    "    text = re.sub(pattern = pattern,repl = ' ',string = text)\n",
    "    \n",
    "    pattern =  '[^\\w\\s]' # 특수기호 제거\n",
    "    text = re.sub(pattern = pattern,repl = ' ',string = text)\n",
    "    \n",
    "    pattern = re.compile(r'\\s+')  #  이중 space 제거\n",
    "    text = re.sub(pattern = pattern,repl = ' ',string = text)\n",
    "\n",
    "    text = text.lower()\n",
    "    return text"
   ]
  },
  {
   "cell_type": "code",
   "execution_count": 6,
   "metadata": {},
   "outputs": [
    {
     "data": {
      "text/plain": [
       "0        one of the other reviewers has mentioned that ...\n",
       "1        a wonderful little production the filming tech...\n",
       "2        i thought this was a wonderful way to spend ti...\n",
       "3        basically there s a family where a little boy ...\n",
       "4        petter mattei s love in the time of money is a...\n",
       "                               ...                        \n",
       "19995    ok for starters taxi driver is amazing this th...\n",
       "19996    it s sort of hard for me to say it because i s...\n",
       "19997    i still liked it though warren beatty is only ...\n",
       "19998    we could still use black adder even today imag...\n",
       "19999    this so called documentary tries to tell that ...\n",
       "Name: review, Length: 20000, dtype: object"
      ]
     },
     "execution_count": 6,
     "metadata": {},
     "output_type": "execute_result"
    }
   ],
   "source": [
    "review = review['review'].apply(clean_text)\n",
    "review"
   ]
  },
  {
   "cell_type": "code",
   "execution_count": 7,
   "metadata": {},
   "outputs": [],
   "source": [
    "# Tokenizing\n",
    "from nltk.tokenize import word_tokenize"
   ]
  },
  {
   "cell_type": "code",
   "execution_count": 8,
   "metadata": {},
   "outputs": [
    {
     "data": {
      "text/plain": [
       "0        [one, of, the, other, reviewers, has, mentione...\n",
       "1        [a, wonderful, little, production, the, filmin...\n",
       "2        [i, thought, this, was, a, wonderful, way, to,...\n",
       "3        [basically, there, s, a, family, where, a, lit...\n",
       "4        [petter, mattei, s, love, in, the, time, of, m...\n",
       "                               ...                        \n",
       "19995    [ok, for, starters, taxi, driver, is, amazing,...\n",
       "19996    [it, s, sort, of, hard, for, me, to, say, it, ...\n",
       "19997    [i, still, liked, it, though, warren, beatty, ...\n",
       "19998    [we, could, still, use, black, adder, even, to...\n",
       "19999    [this, so, called, documentary, tries, to, tel...\n",
       "Name: review, Length: 20000, dtype: object"
      ]
     },
     "execution_count": 8,
     "metadata": {},
     "output_type": "execute_result"
    }
   ],
   "source": [
    "review_token = review.apply(word_tokenize)\n",
    "review_token"
   ]
  },
  {
   "cell_type": "code",
   "execution_count": null,
   "metadata": {},
   "outputs": [],
   "source": [
    "[print(x) for x in review_token if ]"
   ]
  },
  {
   "cell_type": "code",
   "execution_count": 9,
   "metadata": {},
   "outputs": [],
   "source": [
    "#불용어 제거\n",
    "import nltk\n",
    "from nltk.corpus import stopwords\n",
    "import string"
   ]
  },
  {
   "cell_type": "code",
   "execution_count": 10,
   "metadata": {},
   "outputs": [],
   "source": [
    "stopwords   = set(stopwords.words('english'))"
   ]
  },
  {
   "cell_type": "code",
   "execution_count": 11,
   "metadata": {},
   "outputs": [],
   "source": [
    "def remove_stopwords(text):\n",
    "    remove_sw = [w for w in text if w not in stopwords]\n",
    "    return remove_sw"
   ]
  },
  {
   "cell_type": "code",
   "execution_count": 12,
   "metadata": {},
   "outputs": [
    {
     "data": {
      "text/plain": [
       "0        [one, reviewers, mentioned, watching, oz, epis...\n",
       "1        [wonderful, little, production, filming, techn...\n",
       "2        [thought, wonderful, way, spend, time, hot, su...\n",
       "3        [basically, family, little, boy, jake, thinks,...\n",
       "4        [petter, mattei, love, time, money, visually, ...\n",
       "                               ...                        \n",
       "19995    [ok, starters, taxi, driver, amazing, taxi, dr...\n",
       "19996    [sort, hard, say, greatly, enjoyed, targets, p...\n",
       "19997    [still, liked, though, warren, beatty, fair, c...\n",
       "19998    [could, still, use, black, adder, even, today,...\n",
       "19999    [called, documentary, tries, tell, usa, faked,...\n",
       "Name: review, Length: 20000, dtype: object"
      ]
     },
     "execution_count": 12,
     "metadata": {},
     "output_type": "execute_result"
    }
   ],
   "source": [
    "review_sw = review_token.apply(remove_stopwords)\n",
    "review_sw"
   ]
  },
  {
   "cell_type": "code",
   "execution_count": 15,
   "metadata": {},
   "outputs": [],
   "source": [
    "#stemming\n",
    "from nltk.stem.porter import PorterStemmer\n",
    "porter = PorterStemmer()"
   ]
  },
  {
   "cell_type": "code",
   "execution_count": 16,
   "metadata": {},
   "outputs": [],
   "source": [
    "def stemming(text):\n",
    "    stemmed_text = [porter.stem(t) for t in text]\n",
    "    return stemmed_text"
   ]
  },
  {
   "cell_type": "code",
   "execution_count": 17,
   "metadata": {},
   "outputs": [
    {
     "data": {
      "text/plain": [
       "0        [one, review, mention, watch, oz, episod, hook...\n",
       "1        [wonder, littl, product, film, techniqu, unass...\n",
       "2        [thought, wonder, way, spend, time, hot, summe...\n",
       "3        [basic, famili, littl, boy, jake, think, zombi...\n",
       "4        [petter, mattei, love, time, money, visual, st...\n",
       "                               ...                        \n",
       "19995    [ok, starter, taxi, driver, amaz, taxi, driver...\n",
       "19996    [sort, hard, say, greatli, enjoy, target, pape...\n",
       "19997    [still, like, though, warren, beatti, fair, co...\n",
       "19998    [could, still, use, black, adder, even, today,...\n",
       "19999    [call, documentari, tri, tell, usa, fake, moon...\n",
       "Name: review, Length: 20000, dtype: object"
      ]
     },
     "execution_count": 17,
     "metadata": {},
     "output_type": "execute_result"
    }
   ],
   "source": [
    "review_stem = review_sw.apply(stemming)\n",
    "review_stem"
   ]
  },
  {
   "cell_type": "code",
   "execution_count": 18,
   "metadata": {},
   "outputs": [],
   "source": [
    "review_stem = review_stem.tolist()"
   ]
  },
  {
   "cell_type": "code",
   "execution_count": 19,
   "metadata": {},
   "outputs": [],
   "source": [
    "# Encode tokens to integers\n",
    "from gensim import corpora\n",
    "dictionary = corpora.Dictionary(review_stem)\n",
    "dictionary.save('en.dict')  # save dictionary to file for future use"
   ]
  },
  {
   "cell_type": "code",
   "execution_count": 20,
   "metadata": {},
   "outputs": [],
   "source": [
    "#Calculate TF-IDF\n",
    "from gensim import models\n",
    "tf = [dictionary.doc2bow(text) for text in review_stem]\n",
    "tfidf_model = models.TfidfModel(tf)\n",
    "tfidf = tfidf_model[tf]\n",
    "corpora.MmCorpus.serialize('en.mm', tfidf) # save corpus to file for future use"
   ]
  },
  {
   "cell_type": "markdown",
   "metadata": {},
   "source": [
    "### 3. LDA"
   ]
  },
  {
   "cell_type": "code",
   "execution_count": 21,
   "metadata": {},
   "outputs": [],
   "source": [
    "ntopics, nwords = 10, 15"
   ]
  },
  {
   "cell_type": "code",
   "execution_count": 22,
   "metadata": {},
   "outputs": [],
   "source": [
    "import numpy as np; np.random.seed(42)  # optional\n",
    "lda = models.ldamodel.LdaModel(tfidf, id2word=dictionary, num_topics=ntopics)"
   ]
  },
  {
   "cell_type": "markdown",
   "metadata": {},
   "source": [
    "### 4. 토픽 별 중요한 단어 5개씩 출력"
   ]
  },
  {
   "cell_type": "code",
   "execution_count": 23,
   "metadata": {},
   "outputs": [
    {
     "name": "stdout",
     "output_type": "stream",
     "text": [
      "Topic 1:\n",
      "movi film watch good like \n",
      "\n",
      "Topic 2:\n",
      "robin lynch hitler york mad \n",
      "\n",
      "Topic 3:\n",
      "vietnam scarlett murphi elvi poetri \n",
      "\n",
      "Topic 4:\n",
      "snake rental cain muppet columbo \n",
      "\n",
      "Topic 5:\n",
      "twin damm doo scoobi scariest \n",
      "\n",
      "Topic 6:\n",
      "madonna hollow scarecrow cabin email \n",
      "\n",
      "Topic 7:\n",
      "fairi keaton superman sinatra york \n",
      "\n",
      "Topic 8:\n",
      "felix jan latin priceless kutcher \n",
      "\n",
      "Topic 9:\n",
      "sandra tarzan bullock turkish leland \n",
      "\n",
      "Topic 10:\n",
      "snipe nun wesley dud argento \n",
      "\n"
     ]
    }
   ],
   "source": [
    "for i in range(ntopics):\n",
    "    print(f\"Topic {i+1 }:\")\n",
    "    words = lda.show_topic(i, topn = 5)\n",
    "    [print(j[0], end = \" \") for j in words]\n",
    "    print('\\n')"
   ]
  },
  {
   "cell_type": "code",
   "execution_count": null,
   "metadata": {},
   "outputs": [],
   "source": []
  }
 ],
 "metadata": {
  "kernelspec": {
   "display_name": "Python 3",
   "language": "python",
   "name": "python3"
  },
  "language_info": {
   "codemirror_mode": {
    "name": "ipython",
    "version": 3
   },
   "file_extension": ".py",
   "mimetype": "text/x-python",
   "name": "python",
   "nbconvert_exporter": "python",
   "pygments_lexer": "ipython3",
   "version": "3.8.8"
  }
 },
 "nbformat": 4,
 "nbformat_minor": 4
}
