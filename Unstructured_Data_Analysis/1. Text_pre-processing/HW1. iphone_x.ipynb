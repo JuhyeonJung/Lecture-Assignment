{
 "cells": [
  {
   "cell_type": "code",
   "execution_count": 1,
   "metadata": {},
   "outputs": [],
   "source": [
    "import pandas as pd\n",
    "import nltk\n",
    "import re"
   ]
  },
  {
   "cell_type": "code",
   "execution_count": 2,
   "metadata": {},
   "outputs": [
    {
     "data": {
      "text/html": [
       "<div>\n",
       "<style scoped>\n",
       "    .dataframe tbody tr th:only-of-type {\n",
       "        vertical-align: middle;\n",
       "    }\n",
       "\n",
       "    .dataframe tbody tr th {\n",
       "        vertical-align: top;\n",
       "    }\n",
       "\n",
       "    .dataframe thead th {\n",
       "        text-align: right;\n",
       "    }\n",
       "</style>\n",
       "<table border=\"1\" class=\"dataframe\">\n",
       "  <thead>\n",
       "    <tr style=\"text-align: right;\">\n",
       "      <th></th>\n",
       "      <th>Num</th>\n",
       "      <th>Review</th>\n",
       "      <th>Unnamed: 2</th>\n",
       "      <th>Unnamed: 3</th>\n",
       "      <th>Unnamed: 4</th>\n",
       "      <th>Unnamed: 5</th>\n",
       "    </tr>\n",
       "  </thead>\n",
       "  <tbody>\n",
       "    <tr>\n",
       "      <th>0</th>\n",
       "      <td>0</td>\n",
       "      <td>mir, 16 Jan 2018My Huawei Mate 10 Pro is alrea...</td>\n",
       "      <td>NaN</td>\n",
       "      <td>NaN</td>\n",
       "      <td>NaN</td>\n",
       "      <td>NaN</td>\n",
       "    </tr>\n",
       "    <tr>\n",
       "      <th>1</th>\n",
       "      <td>1</td>\n",
       "      <td>This month it fell from 1149? to 999? in Germa...</td>\n",
       "      <td>NaN</td>\n",
       "      <td>NaN</td>\n",
       "      <td>NaN</td>\n",
       "      <td>NaN</td>\n",
       "    </tr>\n",
       "    <tr>\n",
       "      <th>2</th>\n",
       "      <td>2</td>\n",
       "      <td>chopp, 16 Jan 2018hey guys iam confused betwee...</td>\n",
       "      <td>NaN</td>\n",
       "      <td>NaN</td>\n",
       "      <td>NaN</td>\n",
       "      <td>NaN</td>\n",
       "    </tr>\n",
       "    <tr>\n",
       "      <th>3</th>\n",
       "      <td>3</td>\n",
       "      <td>chopp, 16 Jan 2018hey guys iam confused betwee...</td>\n",
       "      <td>NaN</td>\n",
       "      <td>NaN</td>\n",
       "      <td>NaN</td>\n",
       "      <td>NaN</td>\n",
       "    </tr>\n",
       "    <tr>\n",
       "      <th>4</th>\n",
       "      <td>4</td>\n",
       "      <td>hey guys iam confused between buying iphone x ...</td>\n",
       "      <td>NaN</td>\n",
       "      <td>NaN</td>\n",
       "      <td>NaN</td>\n",
       "      <td>NaN</td>\n",
       "    </tr>\n",
       "    <tr>\n",
       "      <th>...</th>\n",
       "      <td>...</td>\n",
       "      <td>...</td>\n",
       "      <td>...</td>\n",
       "      <td>...</td>\n",
       "      <td>...</td>\n",
       "      <td>...</td>\n",
       "    </tr>\n",
       "    <tr>\n",
       "      <th>865</th>\n",
       "      <td>836</td>\n",
       "      <td>Anonymous, 03 Nov 2017So Mr Mobile...fair play...</td>\n",
       "      <td>NaN</td>\n",
       "      <td>NaN</td>\n",
       "      <td>NaN</td>\n",
       "      <td>NaN</td>\n",
       "    </tr>\n",
       "    <tr>\n",
       "      <th>866</th>\n",
       "      <td>837</td>\n",
       "      <td>Anonymous, 03 Nov 2017IPhone X is out.....*loo...</td>\n",
       "      <td>NaN</td>\n",
       "      <td>NaN</td>\n",
       "      <td>NaN</td>\n",
       "      <td>NaN</td>\n",
       "    </tr>\n",
       "    <tr>\n",
       "      <th>867</th>\n",
       "      <td>838</td>\n",
       "      <td>Anonymous, 03 Nov 2017IPhone X is out.....*loo...</td>\n",
       "      <td>NaN</td>\n",
       "      <td>NaN</td>\n",
       "      <td>NaN</td>\n",
       "      <td>NaN</td>\n",
       "    </tr>\n",
       "    <tr>\n",
       "      <th>868</th>\n",
       "      <td>839</td>\n",
       "      <td>Why has Apple failed to make a long lasting ba...</td>\n",
       "      <td>NaN</td>\n",
       "      <td>NaN</td>\n",
       "      <td>NaN</td>\n",
       "      <td>NaN</td>\n",
       "    </tr>\n",
       "    <tr>\n",
       "      <th>869</th>\n",
       "      <td>840</td>\n",
       "      <td>IPhone X is out.....*looks at price tag*.........</td>\n",
       "      <td>NaN</td>\n",
       "      <td>NaN</td>\n",
       "      <td>NaN</td>\n",
       "      <td>NaN</td>\n",
       "    </tr>\n",
       "  </tbody>\n",
       "</table>\n",
       "<p>870 rows × 6 columns</p>\n",
       "</div>"
      ],
      "text/plain": [
       "     Num                                             Review Unnamed: 2  \\\n",
       "0      0  mir, 16 Jan 2018My Huawei Mate 10 Pro is alrea...        NaN   \n",
       "1      1  This month it fell from 1149? to 999? in Germa...        NaN   \n",
       "2      2  chopp, 16 Jan 2018hey guys iam confused betwee...        NaN   \n",
       "3      3  chopp, 16 Jan 2018hey guys iam confused betwee...        NaN   \n",
       "4      4  hey guys iam confused between buying iphone x ...        NaN   \n",
       "..   ...                                                ...        ...   \n",
       "865  836  Anonymous, 03 Nov 2017So Mr Mobile...fair play...        NaN   \n",
       "866  837  Anonymous, 03 Nov 2017IPhone X is out.....*loo...        NaN   \n",
       "867  838  Anonymous, 03 Nov 2017IPhone X is out.....*loo...        NaN   \n",
       "868  839  Why has Apple failed to make a long lasting ba...        NaN   \n",
       "869  840  IPhone X is out.....*looks at price tag*.........        NaN   \n",
       "\n",
       "    Unnamed: 3 Unnamed: 4 Unnamed: 5  \n",
       "0          NaN        NaN        NaN  \n",
       "1          NaN        NaN        NaN  \n",
       "2          NaN        NaN        NaN  \n",
       "3          NaN        NaN        NaN  \n",
       "4          NaN        NaN        NaN  \n",
       "..         ...        ...        ...  \n",
       "865        NaN        NaN        NaN  \n",
       "866        NaN        NaN        NaN  \n",
       "867        NaN        NaN        NaN  \n",
       "868        NaN        NaN        NaN  \n",
       "869        NaN        NaN        NaN  \n",
       "\n",
       "[870 rows x 6 columns]"
      ]
     },
     "execution_count": 2,
     "metadata": {},
     "output_type": "execute_result"
    }
   ],
   "source": [
    "data = pd.read_csv('IPhone-X_Review.csv', engine='python')\n",
    "data"
   ]
  },
  {
   "cell_type": "code",
   "execution_count": 3,
   "metadata": {},
   "outputs": [
    {
     "data": {
      "text/plain": [
       "29"
      ]
     },
     "execution_count": 3,
     "metadata": {},
     "output_type": "execute_result"
    }
   ],
   "source": [
    "# 결측치 확인\n",
    "data['Review'].isnull().sum()"
   ]
  },
  {
   "cell_type": "code",
   "execution_count": 4,
   "metadata": {},
   "outputs": [
    {
     "data": {
      "text/plain": [
       "0      mir, 16 Jan 2018My Huawei Mate 10 Pro is alrea...\n",
       "1      This month it fell from 1149? to 999? in Germa...\n",
       "2      chopp, 16 Jan 2018hey guys iam confused betwee...\n",
       "3      chopp, 16 Jan 2018hey guys iam confused betwee...\n",
       "4      hey guys iam confused between buying iphone x ...\n",
       "                             ...                        \n",
       "865    Anonymous, 03 Nov 2017So Mr Mobile...fair play...\n",
       "866    Anonymous, 03 Nov 2017IPhone X is out.....*loo...\n",
       "867    Anonymous, 03 Nov 2017IPhone X is out.....*loo...\n",
       "868    Why has Apple failed to make a long lasting ba...\n",
       "869    IPhone X is out.....*looks at price tag*.........\n",
       "Name: Review, Length: 841, dtype: object"
      ]
     },
     "execution_count": 4,
     "metadata": {},
     "output_type": "execute_result"
    }
   ],
   "source": [
    "doc = data['Review'].dropna(axis=0)\n",
    "doc"
   ]
  },
  {
   "cell_type": "code",
   "execution_count": 5,
   "metadata": {},
   "outputs": [],
   "source": [
    "# 텍스트 cleaning\n",
    "def clean_text(text):\n",
    "    \n",
    "    pattern = re.compile('[\\u3131-\\u3163\\uac00-\\ud7a3]+')\n",
    "    text = re.sub(pattern = pattern,repl = ' ',string = text) #한글삭제(인코딩 오류인지,,, 셿 이런 단어가 생기길래 삭제,,)\n",
    "    \n",
    "    pattern = '(\\[a-zA-Z0-9\\_.+-\\]+@\\[a-zA-Z0-9]+.\\[a-zA-Z0-9-.\\]+)' # email제거\n",
    "    text = re.sub(pattern = pattern,repl = ' ',string = text)\n",
    "    \n",
    "    pattern = re.compile(r'([^\\w]?\\d+\\.?\\,?\\)?\\d*)+') # 숫자 제거\n",
    "    text = re.sub(pattern = pattern,repl = ' ',string = text)\n",
    "    \n",
    "    pattern = '<[^>]*>' # html 태그 제거\n",
    "    text = re.sub(pattern = pattern,repl = ' ',string = text)\n",
    "    \n",
    "    pattern = '[\\r|\\n]' # \\r,\\n 제거\n",
    "    text = re.sub(pattern = pattern,repl = ' ',string = text)\n",
    "    \n",
    "    pattern =  '[^\\w\\s]' # 특수기호 제거\n",
    "    text = re.sub(pattern = pattern,repl = ' ',string = text)\n",
    "    \n",
    "    pattern = re.compile(r'\\s+')  #  이중 space 제거\n",
    "    text = re.sub(pattern = pattern,repl = ' ',string = text)\n",
    "\n",
    "    text = text.lower()\n",
    "    return text"
   ]
  },
  {
   "cell_type": "code",
   "execution_count": 6,
   "metadata": {},
   "outputs": [
    {
     "data": {
      "text/plain": [
       "0      mir jan my huawei mate pro is already two week...\n",
       "1      this month it fell from to in germany via rese...\n",
       "2      chopp jan hey guys iam confused between buying...\n",
       "3      chopp jan hey guys iam confused between buying...\n",
       "4      hey guys iam confused between buying iphone x ...\n",
       "                             ...                        \n",
       "865    anonymous nov so mr mobile fair play but the q...\n",
       "866    anonymous nov iphone x is out looks at price t...\n",
       "867    anonymous nov iphone x is out looks at price t...\n",
       "868    why has apple failed to make a long lasting ba...\n",
       "869    iphone x is out looks at price tag oh i think ...\n",
       "Name: Review, Length: 841, dtype: object"
      ]
     },
     "execution_count": 6,
     "metadata": {},
     "output_type": "execute_result"
    }
   ],
   "source": [
    "doc = doc.apply(clean_text)\n",
    "doc"
   ]
  },
  {
   "cell_type": "markdown",
   "metadata": {},
   "source": [
    "### 1. Tokenizing"
   ]
  },
  {
   "cell_type": "code",
   "execution_count": 7,
   "metadata": {},
   "outputs": [],
   "source": [
    "from nltk.tokenize import wordpunct_tokenize\n",
    "wordpunct_tokenize_result = doc.apply(wordpunct_tokenize)"
   ]
  },
  {
   "cell_type": "code",
   "execution_count": 8,
   "metadata": {},
   "outputs": [
    {
     "name": "stdout",
     "output_type": "stream",
     "text": [
      "0      [mir, jan, my, huawei, mate, pro, is, already,...\n",
      "1      [this, month, it, fell, from, to, in, germany,...\n",
      "2      [chopp, jan, hey, guys, iam, confused, between...\n",
      "3      [chopp, jan, hey, guys, iam, confused, between...\n",
      "4      [hey, guys, iam, confused, between, buying, ip...\n",
      "                             ...                        \n",
      "865    [anonymous, nov, so, mr, mobile, fair, play, b...\n",
      "866    [anonymous, nov, iphone, x, is, out, looks, at...\n",
      "867    [anonymous, nov, iphone, x, is, out, looks, at...\n",
      "868    [why, has, apple, failed, to, make, a, long, l...\n",
      "869    [iphone, x, is, out, looks, at, price, tag, oh...\n",
      "Name: Review, Length: 841, dtype: object\n"
     ]
    }
   ],
   "source": [
    "print(wordpunct_tokenize_result)"
   ]
  },
  {
   "cell_type": "markdown",
   "metadata": {},
   "source": [
    "### 2. POS tagging"
   ]
  },
  {
   "cell_type": "code",
   "execution_count": 9,
   "metadata": {},
   "outputs": [
    {
     "name": "stdout",
     "output_type": "stream",
     "text": [
      "0      [(mir, NN), (jan, NN), (my, PRP$), (huawei, NN...\n",
      "1      [(this, DT), (month, NN), (it, PRP), (fell, VB...\n",
      "2      [(chopp, NN), (jan, NN), (hey, NN), (guys, NNS...\n",
      "3      [(chopp, NN), (jan, NN), (hey, NN), (guys, NNS...\n",
      "4      [(hey, NN), (guys, NNS), (iam, VBP), (confused...\n",
      "                             ...                        \n",
      "865    [(anonymous, JJ), (nov, NNS), (so, RB), (mr, R...\n",
      "866    [(anonymous, JJ), (nov, CC), (iphone, JJ), (x,...\n",
      "867    [(anonymous, JJ), (nov, CC), (iphone, JJ), (x,...\n",
      "868    [(why, WRB), (has, VBZ), (apple, NN), (failed,...\n",
      "869    [(iphone, NN), (x, NN), (is, VBZ), (out, RP), ...\n",
      "Name: Review, Length: 841, dtype: object\n"
     ]
    }
   ],
   "source": [
    "pos_result = wordpunct_tokenize_result.apply(nltk.pos_tag)\n",
    "print(pos_result)"
   ]
  },
  {
   "cell_type": "markdown",
   "metadata": {},
   "source": [
    "### 3. Stopword 제거"
   ]
  },
  {
   "cell_type": "code",
   "execution_count": 10,
   "metadata": {},
   "outputs": [],
   "source": [
    "import string\n",
    "from nltk.corpus import wordnet as wn\n",
    "from nltk.corpus import stopwords\n",
    "from nltk.stem.wordnet import WordNetLemmatizer\n",
    "\n",
    "lemmatizer  = WordNetLemmatizer()\n",
    "stopwords   = set(stopwords.words('english'))\n",
    "punctuation = string.punctuation"
   ]
  },
  {
   "cell_type": "code",
   "execution_count": 11,
   "metadata": {},
   "outputs": [],
   "source": [
    "def remove_stopwords(text):\n",
    "    remove_sw = [w for w in text if w not in stopwords and w not in punctuation]\n",
    "    return remove_sw"
   ]
  },
  {
   "cell_type": "code",
   "execution_count": 12,
   "metadata": {},
   "outputs": [
    {
     "data": {
      "text/plain": [
       "0      [mir, jan, huawei, mate, pro, already, two, we...\n",
       "1      [month, fell, germany, via, resellers, hoping,...\n",
       "2      [chopp, jan, hey, guys, iam, confused, buying,...\n",
       "3      [chopp, jan, hey, guys, iam, confused, buying,...\n",
       "4      [hey, guys, iam, confused, buying, iphone, x, ...\n",
       "                             ...                        \n",
       "865    [anonymous, nov, mr, mobile, fair, play, quest...\n",
       "866    [anonymous, nov, iphone, x, looks, price, tag,...\n",
       "867    [anonymous, nov, iphone, x, looks, price, tag,...\n",
       "868        [apple, failed, make, long, lasting, battery]\n",
       "869    [iphone, x, looks, price, tag, oh, think, stil...\n",
       "Name: Review, Length: 841, dtype: object"
      ]
     },
     "execution_count": 12,
     "metadata": {},
     "output_type": "execute_result"
    }
   ],
   "source": [
    "stopwords_removed = wordpunct_tokenize_result.apply(remove_stopwords)\n",
    "stopwords_removed"
   ]
  },
  {
   "cell_type": "markdown",
   "metadata": {},
   "source": [
    "### 4. Stemming"
   ]
  },
  {
   "cell_type": "code",
   "execution_count": 13,
   "metadata": {},
   "outputs": [],
   "source": [
    "from nltk.stem.snowball import SnowballStemmer\n",
    "snowball = SnowballStemmer('english')"
   ]
  },
  {
   "cell_type": "code",
   "execution_count": 14,
   "metadata": {},
   "outputs": [],
   "source": [
    "def stemming(text):\n",
    "    stemmed_text = [snowball.stem(t) for t in text]\n",
    "    return stemmed_text"
   ]
  },
  {
   "cell_type": "code",
   "execution_count": 15,
   "metadata": {},
   "outputs": [
    {
     "data": {
      "text/plain": [
       "0      [mir, jan, huawei, mate, pro, alreadi, two, we...\n",
       "1      [month, fell, germani, via, resel, hope, conti...\n",
       "2      [chopp, jan, hey, guy, iam, confus, buy, iphon...\n",
       "3      [chopp, jan, hey, guy, iam, confus, buy, iphon...\n",
       "4      [hey, guy, iam, confus, buy, iphon, x, huawei,...\n",
       "                             ...                        \n",
       "865    [anonym, nov, mr, mobil, fair, play, question,...\n",
       "866    [anonym, nov, iphon, x, look, price, tag, oh, ...\n",
       "867    [anonym, nov, iphon, x, look, price, tag, oh, ...\n",
       "868              [appl, fail, make, long, last, batteri]\n",
       "869    [iphon, x, look, price, tag, oh, think, still,...\n",
       "Name: Review, Length: 841, dtype: object"
      ]
     },
     "execution_count": 15,
     "metadata": {},
     "output_type": "execute_result"
    }
   ],
   "source": [
    "stem = stopwords_removed.apply(stemming)\n",
    "stem"
   ]
  },
  {
   "cell_type": "code",
   "execution_count": 16,
   "metadata": {},
   "outputs": [
    {
     "data": {
      "text/html": [
       "<div>\n",
       "<style scoped>\n",
       "    .dataframe tbody tr th:only-of-type {\n",
       "        vertical-align: middle;\n",
       "    }\n",
       "\n",
       "    .dataframe tbody tr th {\n",
       "        vertical-align: top;\n",
       "    }\n",
       "\n",
       "    .dataframe thead th {\n",
       "        text-align: right;\n",
       "    }\n",
       "</style>\n",
       "<table border=\"1\" class=\"dataframe\">\n",
       "  <thead>\n",
       "    <tr style=\"text-align: right;\">\n",
       "      <th></th>\n",
       "      <th>Reviews</th>\n",
       "      <th>tokenize</th>\n",
       "      <th>pos_tag</th>\n",
       "      <th>remove_sw</th>\n",
       "      <th>stemming</th>\n",
       "    </tr>\n",
       "  </thead>\n",
       "  <tbody>\n",
       "    <tr>\n",
       "      <th>0</th>\n",
       "      <td>mir jan my huawei mate pro is already two week...</td>\n",
       "      <td>[mir, jan, my, huawei, mate, pro, is, already,...</td>\n",
       "      <td>[(mir, NN), (jan, NN), (my, PRP$), (huawei, NN...</td>\n",
       "      <td>[mir, jan, huawei, mate, pro, already, two, we...</td>\n",
       "      <td>[mir, jan, huawei, mate, pro, alreadi, two, we...</td>\n",
       "    </tr>\n",
       "    <tr>\n",
       "      <th>1</th>\n",
       "      <td>this month it fell from to in germany via rese...</td>\n",
       "      <td>[this, month, it, fell, from, to, in, germany,...</td>\n",
       "      <td>[(this, DT), (month, NN), (it, PRP), (fell, VB...</td>\n",
       "      <td>[month, fell, germany, via, resellers, hoping,...</td>\n",
       "      <td>[month, fell, germani, via, resel, hope, conti...</td>\n",
       "    </tr>\n",
       "    <tr>\n",
       "      <th>2</th>\n",
       "      <td>chopp jan hey guys iam confused between buying...</td>\n",
       "      <td>[chopp, jan, hey, guys, iam, confused, between...</td>\n",
       "      <td>[(chopp, NN), (jan, NN), (hey, NN), (guys, NNS...</td>\n",
       "      <td>[chopp, jan, hey, guys, iam, confused, buying,...</td>\n",
       "      <td>[chopp, jan, hey, guy, iam, confus, buy, iphon...</td>\n",
       "    </tr>\n",
       "    <tr>\n",
       "      <th>3</th>\n",
       "      <td>chopp jan hey guys iam confused between buying...</td>\n",
       "      <td>[chopp, jan, hey, guys, iam, confused, between...</td>\n",
       "      <td>[(chopp, NN), (jan, NN), (hey, NN), (guys, NNS...</td>\n",
       "      <td>[chopp, jan, hey, guys, iam, confused, buying,...</td>\n",
       "      <td>[chopp, jan, hey, guy, iam, confus, buy, iphon...</td>\n",
       "    </tr>\n",
       "    <tr>\n",
       "      <th>4</th>\n",
       "      <td>hey guys iam confused between buying iphone x ...</td>\n",
       "      <td>[hey, guys, iam, confused, between, buying, ip...</td>\n",
       "      <td>[(hey, NN), (guys, NNS), (iam, VBP), (confused...</td>\n",
       "      <td>[hey, guys, iam, confused, buying, iphone, x, ...</td>\n",
       "      <td>[hey, guy, iam, confus, buy, iphon, x, huawei,...</td>\n",
       "    </tr>\n",
       "    <tr>\n",
       "      <th>...</th>\n",
       "      <td>...</td>\n",
       "      <td>...</td>\n",
       "      <td>...</td>\n",
       "      <td>...</td>\n",
       "      <td>...</td>\n",
       "    </tr>\n",
       "    <tr>\n",
       "      <th>865</th>\n",
       "      <td>anonymous nov so mr mobile fair play but the q...</td>\n",
       "      <td>[anonymous, nov, so, mr, mobile, fair, play, b...</td>\n",
       "      <td>[(anonymous, JJ), (nov, NNS), (so, RB), (mr, R...</td>\n",
       "      <td>[anonymous, nov, mr, mobile, fair, play, quest...</td>\n",
       "      <td>[anonym, nov, mr, mobil, fair, play, question,...</td>\n",
       "    </tr>\n",
       "    <tr>\n",
       "      <th>866</th>\n",
       "      <td>anonymous nov iphone x is out looks at price t...</td>\n",
       "      <td>[anonymous, nov, iphone, x, is, out, looks, at...</td>\n",
       "      <td>[(anonymous, JJ), (nov, CC), (iphone, JJ), (x,...</td>\n",
       "      <td>[anonymous, nov, iphone, x, looks, price, tag,...</td>\n",
       "      <td>[anonym, nov, iphon, x, look, price, tag, oh, ...</td>\n",
       "    </tr>\n",
       "    <tr>\n",
       "      <th>867</th>\n",
       "      <td>anonymous nov iphone x is out looks at price t...</td>\n",
       "      <td>[anonymous, nov, iphone, x, is, out, looks, at...</td>\n",
       "      <td>[(anonymous, JJ), (nov, CC), (iphone, JJ), (x,...</td>\n",
       "      <td>[anonymous, nov, iphone, x, looks, price, tag,...</td>\n",
       "      <td>[anonym, nov, iphon, x, look, price, tag, oh, ...</td>\n",
       "    </tr>\n",
       "    <tr>\n",
       "      <th>868</th>\n",
       "      <td>why has apple failed to make a long lasting ba...</td>\n",
       "      <td>[why, has, apple, failed, to, make, a, long, l...</td>\n",
       "      <td>[(why, WRB), (has, VBZ), (apple, NN), (failed,...</td>\n",
       "      <td>[apple, failed, make, long, lasting, battery]</td>\n",
       "      <td>[appl, fail, make, long, last, batteri]</td>\n",
       "    </tr>\n",
       "    <tr>\n",
       "      <th>869</th>\n",
       "      <td>iphone x is out looks at price tag oh i think ...</td>\n",
       "      <td>[iphone, x, is, out, looks, at, price, tag, oh...</td>\n",
       "      <td>[(iphone, NN), (x, NN), (is, VBZ), (out, RP), ...</td>\n",
       "      <td>[iphone, x, looks, price, tag, oh, think, stil...</td>\n",
       "      <td>[iphon, x, look, price, tag, oh, think, still,...</td>\n",
       "    </tr>\n",
       "  </tbody>\n",
       "</table>\n",
       "<p>841 rows × 5 columns</p>\n",
       "</div>"
      ],
      "text/plain": [
       "                                               Reviews  \\\n",
       "0    mir jan my huawei mate pro is already two week...   \n",
       "1    this month it fell from to in germany via rese...   \n",
       "2    chopp jan hey guys iam confused between buying...   \n",
       "3    chopp jan hey guys iam confused between buying...   \n",
       "4    hey guys iam confused between buying iphone x ...   \n",
       "..                                                 ...   \n",
       "865  anonymous nov so mr mobile fair play but the q...   \n",
       "866  anonymous nov iphone x is out looks at price t...   \n",
       "867  anonymous nov iphone x is out looks at price t...   \n",
       "868  why has apple failed to make a long lasting ba...   \n",
       "869  iphone x is out looks at price tag oh i think ...   \n",
       "\n",
       "                                              tokenize  \\\n",
       "0    [mir, jan, my, huawei, mate, pro, is, already,...   \n",
       "1    [this, month, it, fell, from, to, in, germany,...   \n",
       "2    [chopp, jan, hey, guys, iam, confused, between...   \n",
       "3    [chopp, jan, hey, guys, iam, confused, between...   \n",
       "4    [hey, guys, iam, confused, between, buying, ip...   \n",
       "..                                                 ...   \n",
       "865  [anonymous, nov, so, mr, mobile, fair, play, b...   \n",
       "866  [anonymous, nov, iphone, x, is, out, looks, at...   \n",
       "867  [anonymous, nov, iphone, x, is, out, looks, at...   \n",
       "868  [why, has, apple, failed, to, make, a, long, l...   \n",
       "869  [iphone, x, is, out, looks, at, price, tag, oh...   \n",
       "\n",
       "                                               pos_tag  \\\n",
       "0    [(mir, NN), (jan, NN), (my, PRP$), (huawei, NN...   \n",
       "1    [(this, DT), (month, NN), (it, PRP), (fell, VB...   \n",
       "2    [(chopp, NN), (jan, NN), (hey, NN), (guys, NNS...   \n",
       "3    [(chopp, NN), (jan, NN), (hey, NN), (guys, NNS...   \n",
       "4    [(hey, NN), (guys, NNS), (iam, VBP), (confused...   \n",
       "..                                                 ...   \n",
       "865  [(anonymous, JJ), (nov, NNS), (so, RB), (mr, R...   \n",
       "866  [(anonymous, JJ), (nov, CC), (iphone, JJ), (x,...   \n",
       "867  [(anonymous, JJ), (nov, CC), (iphone, JJ), (x,...   \n",
       "868  [(why, WRB), (has, VBZ), (apple, NN), (failed,...   \n",
       "869  [(iphone, NN), (x, NN), (is, VBZ), (out, RP), ...   \n",
       "\n",
       "                                             remove_sw  \\\n",
       "0    [mir, jan, huawei, mate, pro, already, two, we...   \n",
       "1    [month, fell, germany, via, resellers, hoping,...   \n",
       "2    [chopp, jan, hey, guys, iam, confused, buying,...   \n",
       "3    [chopp, jan, hey, guys, iam, confused, buying,...   \n",
       "4    [hey, guys, iam, confused, buying, iphone, x, ...   \n",
       "..                                                 ...   \n",
       "865  [anonymous, nov, mr, mobile, fair, play, quest...   \n",
       "866  [anonymous, nov, iphone, x, looks, price, tag,...   \n",
       "867  [anonymous, nov, iphone, x, looks, price, tag,...   \n",
       "868      [apple, failed, make, long, lasting, battery]   \n",
       "869  [iphone, x, looks, price, tag, oh, think, stil...   \n",
       "\n",
       "                                              stemming  \n",
       "0    [mir, jan, huawei, mate, pro, alreadi, two, we...  \n",
       "1    [month, fell, germani, via, resel, hope, conti...  \n",
       "2    [chopp, jan, hey, guy, iam, confus, buy, iphon...  \n",
       "3    [chopp, jan, hey, guy, iam, confus, buy, iphon...  \n",
       "4    [hey, guy, iam, confus, buy, iphon, x, huawei,...  \n",
       "..                                                 ...  \n",
       "865  [anonym, nov, mr, mobil, fair, play, question,...  \n",
       "866  [anonym, nov, iphon, x, look, price, tag, oh, ...  \n",
       "867  [anonym, nov, iphon, x, look, price, tag, oh, ...  \n",
       "868            [appl, fail, make, long, last, batteri]  \n",
       "869  [iphon, x, look, price, tag, oh, think, still,...  \n",
       "\n",
       "[841 rows x 5 columns]"
      ]
     },
     "execution_count": 16,
     "metadata": {},
     "output_type": "execute_result"
    }
   ],
   "source": [
    "# 데이터프레임으로 예쁘게!!\n",
    "df = pd.DataFrame({'Reviews' : doc, 'tokenize' : wordpunct_tokenize_result,\n",
    "                  'pos_tag' : pos_result, 'remove_sw' : stopwords_removed,\n",
    "                  'stemming' : stem})\n",
    "df"
   ]
  },
  {
   "cell_type": "markdown",
   "metadata": {},
   "source": [
    "### 5. 빈도수 시각화"
   ]
  },
  {
   "cell_type": "code",
   "execution_count": 17,
   "metadata": {},
   "outputs": [],
   "source": [
    "def flatten(l):\n",
    "    flatList=[]\n",
    "    for elem in l:\n",
    "        if type(elem) == list:\n",
    "            for e in elem:\n",
    "                flatList.append(e)\n",
    "        else:\n",
    "            flatList.append(elem)\n",
    "    return flatList"
   ]
  },
  {
   "cell_type": "code",
   "execution_count": 18,
   "metadata": {},
   "outputs": [],
   "source": [
    "tokens = nltk.Text(flatten(stem))"
   ]
  },
  {
   "cell_type": "code",
   "execution_count": 19,
   "metadata": {},
   "outputs": [
    {
     "data": {
      "text/plain": [
       "[('iphon', 822),\n",
       " ('appl', 544),\n",
       " ('phone', 519),\n",
       " ('x', 511),\n",
       " ('samsung', 289),\n",
       " ('nov', 286),\n",
       " ('like', 251),\n",
       " ('use', 235),\n",
       " ('android', 218),\n",
       " ('screen', 202),\n",
       " ('best', 159),\n",
       " ('dec', 151),\n",
       " ('better', 149),\n",
       " ('display', 148),\n",
       " ('face', 147),\n",
       " ('anonym', 146),\n",
       " ('look', 146),\n",
       " ('one', 140),\n",
       " ('buy', 139),\n",
       " ('get', 127),\n",
       " ('peopl', 126),\n",
       " ('price', 119),\n",
       " ('even', 115),\n",
       " ('note', 111),\n",
       " ('make', 109),\n",
       " ('say', 109),\n",
       " ('id', 108),\n",
       " ('also', 106),\n",
       " ('think', 105),\n",
       " ('time', 103),\n",
       " ('realli', 103),\n",
       " ('year', 103),\n",
       " ('u', 100),\n",
       " ('plus', 100),\n",
       " ('batteri', 96),\n",
       " ('work', 95),\n",
       " ('would', 93),\n",
       " ('new', 93),\n",
       " ('notch', 88),\n",
       " ('good', 87),\n",
       " ('problem', 86),\n",
       " ('much', 86),\n",
       " ('go', 81),\n",
       " ('devic', 81),\n",
       " ('know', 79),\n",
       " ('user', 78),\n",
       " ('thing', 73),\n",
       " ('camera', 71),\n",
       " ('app', 69),\n",
       " ('issu', 68)]"
      ]
     },
     "execution_count": 19,
     "metadata": {},
     "output_type": "execute_result"
    }
   ],
   "source": [
    "# 빈도수 상위 50개\n",
    "tokens.vocab().most_common(50)"
   ]
  },
  {
   "cell_type": "code",
   "execution_count": 20,
   "metadata": {},
   "outputs": [],
   "source": [
    "import matplotlib.pyplot as plt"
   ]
  },
  {
   "cell_type": "code",
   "execution_count": 21,
   "metadata": {
    "scrolled": false
   },
   "outputs": [
    {
     "data": {
      "image/png": "[encoded data removed]",
      "text/plain": [
       "<Figure size 576x360 with 1 Axes>"
      ]
     },
     "metadata": {
      "needs_background": "light"
     },
     "output_type": "display_data"
    }
   ],
   "source": [
    "%matplotlib inline\n",
    "plt.figure(figsize=(8,5))\n",
    "plt.title('top 50')\n",
    "tokens.plot(50)"
   ]
  },
  {
   "cell_type": "markdown",
   "metadata": {},
   "source": [
    "### 명사 상위 50개 추출"
   ]
  },
  {
   "cell_type": "code",
   "execution_count": 22,
   "metadata": {},
   "outputs": [],
   "source": [
    "def only_nouns(token_pos):\n",
    "    nouns = []\n",
    "    for word, pos in token_pos:\n",
    "        if 'NN' in pos:\n",
    "            nouns.append(word)\n",
    "    return nouns"
   ]
  },
  {
   "cell_type": "code",
   "execution_count": 23,
   "metadata": {
    "scrolled": true
   },
   "outputs": [
    {
     "name": "stdout",
     "output_type": "stream",
     "text": [
      "0        [mir, jan, huawei, weeks, android, sho, moreno]\n",
      "1                                     [month, resellers]\n",
      "2      [chopp, jan, hey, guys, iphone, x, y, please, ...\n",
      "3      [chopp, jan, hey, guys, iphone, x, y, please, ...\n",
      "4                [hey, guys, iphone, x, y, please, help]\n",
      "                             ...                        \n",
      "865    [nov, play, question, yeah, sellers, profits, ...\n",
      "866    [x, looks, price, tag, i, kidneylol, ur, kidne...\n",
      "867    [x, looks, price, tag, i, kidneydon, t, joke, ...\n",
      "868                            [apple, lasting, battery]\n",
      "869            [iphone, x, looks, price, tag, i, kidney]\n",
      "Name: Review, Length: 841, dtype: object\n"
     ]
    }
   ],
   "source": [
    "nouns = pos_result.apply(only_nouns)\n",
    "print(nouns)"
   ]
  },
  {
   "cell_type": "code",
   "execution_count": 24,
   "metadata": {},
   "outputs": [
    {
     "data": {
      "text/plain": [
       "0        [mir, jan, huawei, weeks, android, sho, moreno]\n",
       "1                                     [month, resellers]\n",
       "2       [chopp, jan, hey, guys, iphone, x, please, help]\n",
       "3      [chopp, jan, hey, guys, iphone, x, please, pit...\n",
       "4                   [hey, guys, iphone, x, please, help]\n",
       "                             ...                        \n",
       "865    [nov, play, question, yeah, sellers, profits, ...\n",
       "866    [x, looks, price, tag, kidneylol, ur, kidney, ...\n",
       "867    [x, looks, price, tag, kidneydon, joke, fools,...\n",
       "868                            [apple, lasting, battery]\n",
       "869               [iphone, x, looks, price, tag, kidney]\n",
       "Name: Review, Length: 841, dtype: object"
      ]
     },
     "execution_count": 24,
     "metadata": {},
     "output_type": "execute_result"
    }
   ],
   "source": [
    "# 불용어 제거\n",
    "stopwords_removed_nouns = nouns.apply(remove_stopwords)\n",
    "stopwords_removed_nouns"
   ]
  },
  {
   "cell_type": "code",
   "execution_count": 25,
   "metadata": {},
   "outputs": [
    {
     "data": {
      "text/plain": [
       "0         [mir, jan, huawei, week, android, sho, moreno]\n",
       "1                                         [month, resel]\n",
       "2          [chopp, jan, hey, guy, iphon, x, pleas, help]\n",
       "3      [chopp, jan, hey, guy, iphon, x, pleas, pit, k...\n",
       "4                      [hey, guy, iphon, x, pleas, help]\n",
       "                             ...                        \n",
       "865    [nov, play, question, yeah, seller, profit, bu...\n",
       "866    [x, look, price, tag, kidneylol, ur, kidney, p...\n",
       "867    [x, look, price, tag, kidneydon, joke, fool, i...\n",
       "868                                [appl, last, batteri]\n",
       "869                 [iphon, x, look, price, tag, kidney]\n",
       "Name: Review, Length: 841, dtype: object"
      ]
     },
     "execution_count": 25,
     "metadata": {},
     "output_type": "execute_result"
    }
   ],
   "source": [
    "stem_nouns = stopwords_removed_nouns.apply(stemming)\n",
    "stem_nouns"
   ]
  },
  {
   "cell_type": "code",
   "execution_count": 26,
   "metadata": {
    "scrolled": false
   },
   "outputs": [
    {
     "data": {
      "text/html": [
       "<div>\n",
       "<style scoped>\n",
       "    .dataframe tbody tr th:only-of-type {\n",
       "        vertical-align: middle;\n",
       "    }\n",
       "\n",
       "    .dataframe tbody tr th {\n",
       "        vertical-align: top;\n",
       "    }\n",
       "\n",
       "    .dataframe thead th {\n",
       "        text-align: right;\n",
       "    }\n",
       "</style>\n",
       "<table border=\"1\" class=\"dataframe\">\n",
       "  <thead>\n",
       "    <tr style=\"text-align: right;\">\n",
       "      <th></th>\n",
       "      <th>Reviews</th>\n",
       "      <th>tokenize</th>\n",
       "      <th>pos_tag</th>\n",
       "      <th>nouns</th>\n",
       "      <th>remove_sw</th>\n",
       "      <th>stemming</th>\n",
       "    </tr>\n",
       "  </thead>\n",
       "  <tbody>\n",
       "    <tr>\n",
       "      <th>0</th>\n",
       "      <td>mir jan my huawei mate pro is already two week...</td>\n",
       "      <td>[mir, jan, my, huawei, mate, pro, is, already,...</td>\n",
       "      <td>[(mir, NN), (jan, NN), (my, PRP$), (huawei, NN...</td>\n",
       "      <td>[mir, jan, huawei, weeks, android, sho, moreno]</td>\n",
       "      <td>[mir, jan, huawei, weeks, android, sho, moreno]</td>\n",
       "      <td>[mir, jan, huawei, week, android, sho, moreno]</td>\n",
       "    </tr>\n",
       "    <tr>\n",
       "      <th>1</th>\n",
       "      <td>this month it fell from to in germany via rese...</td>\n",
       "      <td>[this, month, it, fell, from, to, in, germany,...</td>\n",
       "      <td>[(this, DT), (month, NN), (it, PRP), (fell, VB...</td>\n",
       "      <td>[month, resellers]</td>\n",
       "      <td>[month, resellers]</td>\n",
       "      <td>[month, resel]</td>\n",
       "    </tr>\n",
       "    <tr>\n",
       "      <th>2</th>\n",
       "      <td>chopp jan hey guys iam confused between buying...</td>\n",
       "      <td>[chopp, jan, hey, guys, iam, confused, between...</td>\n",
       "      <td>[(chopp, NN), (jan, NN), (hey, NN), (guys, NNS...</td>\n",
       "      <td>[chopp, jan, hey, guys, iphone, x, y, please, ...</td>\n",
       "      <td>[chopp, jan, hey, guys, iphone, x, please, help]</td>\n",
       "      <td>[chopp, jan, hey, guy, iphon, x, pleas, help]</td>\n",
       "    </tr>\n",
       "    <tr>\n",
       "      <th>3</th>\n",
       "      <td>chopp jan hey guys iam confused between buying...</td>\n",
       "      <td>[chopp, jan, hey, guys, iam, confused, between...</td>\n",
       "      <td>[(chopp, NN), (jan, NN), (hey, NN), (guys, NNS...</td>\n",
       "      <td>[chopp, jan, hey, guys, iphone, x, y, please, ...</td>\n",
       "      <td>[chopp, jan, hey, guys, iphone, x, please, pit...</td>\n",
       "      <td>[chopp, jan, hey, guy, iphon, x, pleas, pit, k...</td>\n",
       "    </tr>\n",
       "    <tr>\n",
       "      <th>4</th>\n",
       "      <td>hey guys iam confused between buying iphone x ...</td>\n",
       "      <td>[hey, guys, iam, confused, between, buying, ip...</td>\n",
       "      <td>[(hey, NN), (guys, NNS), (iam, VBP), (confused...</td>\n",
       "      <td>[hey, guys, iphone, x, y, please, help]</td>\n",
       "      <td>[hey, guys, iphone, x, please, help]</td>\n",
       "      <td>[hey, guy, iphon, x, pleas, help]</td>\n",
       "    </tr>\n",
       "    <tr>\n",
       "      <th>...</th>\n",
       "      <td>...</td>\n",
       "      <td>...</td>\n",
       "      <td>...</td>\n",
       "      <td>...</td>\n",
       "      <td>...</td>\n",
       "      <td>...</td>\n",
       "    </tr>\n",
       "    <tr>\n",
       "      <th>865</th>\n",
       "      <td>anonymous nov so mr mobile fair play but the q...</td>\n",
       "      <td>[anonymous, nov, so, mr, mobile, fair, play, b...</td>\n",
       "      <td>[(anonymous, JJ), (nov, NNS), (so, RB), (mr, R...</td>\n",
       "      <td>[nov, play, question, yeah, sellers, profits, ...</td>\n",
       "      <td>[nov, play, question, yeah, sellers, profits, ...</td>\n",
       "      <td>[nov, play, question, yeah, seller, profit, bu...</td>\n",
       "    </tr>\n",
       "    <tr>\n",
       "      <th>866</th>\n",
       "      <td>anonymous nov iphone x is out looks at price t...</td>\n",
       "      <td>[anonymous, nov, iphone, x, is, out, looks, at...</td>\n",
       "      <td>[(anonymous, JJ), (nov, CC), (iphone, JJ), (x,...</td>\n",
       "      <td>[x, looks, price, tag, i, kidneylol, ur, kidne...</td>\n",
       "      <td>[x, looks, price, tag, kidneylol, ur, kidney, ...</td>\n",
       "      <td>[x, look, price, tag, kidneylol, ur, kidney, p...</td>\n",
       "    </tr>\n",
       "    <tr>\n",
       "      <th>867</th>\n",
       "      <td>anonymous nov iphone x is out looks at price t...</td>\n",
       "      <td>[anonymous, nov, iphone, x, is, out, looks, at...</td>\n",
       "      <td>[(anonymous, JJ), (nov, CC), (iphone, JJ), (x,...</td>\n",
       "      <td>[x, looks, price, tag, i, kidneydon, t, joke, ...</td>\n",
       "      <td>[x, looks, price, tag, kidneydon, joke, fools,...</td>\n",
       "      <td>[x, look, price, tag, kidneydon, joke, fool, i...</td>\n",
       "    </tr>\n",
       "    <tr>\n",
       "      <th>868</th>\n",
       "      <td>why has apple failed to make a long lasting ba...</td>\n",
       "      <td>[why, has, apple, failed, to, make, a, long, l...</td>\n",
       "      <td>[(why, WRB), (has, VBZ), (apple, NN), (failed,...</td>\n",
       "      <td>[apple, lasting, battery]</td>\n",
       "      <td>[apple, lasting, battery]</td>\n",
       "      <td>[appl, last, batteri]</td>\n",
       "    </tr>\n",
       "    <tr>\n",
       "      <th>869</th>\n",
       "      <td>iphone x is out looks at price tag oh i think ...</td>\n",
       "      <td>[iphone, x, is, out, looks, at, price, tag, oh...</td>\n",
       "      <td>[(iphone, NN), (x, NN), (is, VBZ), (out, RP), ...</td>\n",
       "      <td>[iphone, x, looks, price, tag, i, kidney]</td>\n",
       "      <td>[iphone, x, looks, price, tag, kidney]</td>\n",
       "      <td>[iphon, x, look, price, tag, kidney]</td>\n",
       "    </tr>\n",
       "  </tbody>\n",
       "</table>\n",
       "<p>841 rows × 6 columns</p>\n",
       "</div>"
      ],
      "text/plain": [
       "                                               Reviews  \\\n",
       "0    mir jan my huawei mate pro is already two week...   \n",
       "1    this month it fell from to in germany via rese...   \n",
       "2    chopp jan hey guys iam confused between buying...   \n",
       "3    chopp jan hey guys iam confused between buying...   \n",
       "4    hey guys iam confused between buying iphone x ...   \n",
       "..                                                 ...   \n",
       "865  anonymous nov so mr mobile fair play but the q...   \n",
       "866  anonymous nov iphone x is out looks at price t...   \n",
       "867  anonymous nov iphone x is out looks at price t...   \n",
       "868  why has apple failed to make a long lasting ba...   \n",
       "869  iphone x is out looks at price tag oh i think ...   \n",
       "\n",
       "                                              tokenize  \\\n",
       "0    [mir, jan, my, huawei, mate, pro, is, already,...   \n",
       "1    [this, month, it, fell, from, to, in, germany,...   \n",
       "2    [chopp, jan, hey, guys, iam, confused, between...   \n",
       "3    [chopp, jan, hey, guys, iam, confused, between...   \n",
       "4    [hey, guys, iam, confused, between, buying, ip...   \n",
       "..                                                 ...   \n",
       "865  [anonymous, nov, so, mr, mobile, fair, play, b...   \n",
       "866  [anonymous, nov, iphone, x, is, out, looks, at...   \n",
       "867  [anonymous, nov, iphone, x, is, out, looks, at...   \n",
       "868  [why, has, apple, failed, to, make, a, long, l...   \n",
       "869  [iphone, x, is, out, looks, at, price, tag, oh...   \n",
       "\n",
       "                                               pos_tag  \\\n",
       "0    [(mir, NN), (jan, NN), (my, PRP$), (huawei, NN...   \n",
       "1    [(this, DT), (month, NN), (it, PRP), (fell, VB...   \n",
       "2    [(chopp, NN), (jan, NN), (hey, NN), (guys, NNS...   \n",
       "3    [(chopp, NN), (jan, NN), (hey, NN), (guys, NNS...   \n",
       "4    [(hey, NN), (guys, NNS), (iam, VBP), (confused...   \n",
       "..                                                 ...   \n",
       "865  [(anonymous, JJ), (nov, NNS), (so, RB), (mr, R...   \n",
       "866  [(anonymous, JJ), (nov, CC), (iphone, JJ), (x,...   \n",
       "867  [(anonymous, JJ), (nov, CC), (iphone, JJ), (x,...   \n",
       "868  [(why, WRB), (has, VBZ), (apple, NN), (failed,...   \n",
       "869  [(iphone, NN), (x, NN), (is, VBZ), (out, RP), ...   \n",
       "\n",
       "                                                 nouns  \\\n",
       "0      [mir, jan, huawei, weeks, android, sho, moreno]   \n",
       "1                                   [month, resellers]   \n",
       "2    [chopp, jan, hey, guys, iphone, x, y, please, ...   \n",
       "3    [chopp, jan, hey, guys, iphone, x, y, please, ...   \n",
       "4              [hey, guys, iphone, x, y, please, help]   \n",
       "..                                                 ...   \n",
       "865  [nov, play, question, yeah, sellers, profits, ...   \n",
       "866  [x, looks, price, tag, i, kidneylol, ur, kidne...   \n",
       "867  [x, looks, price, tag, i, kidneydon, t, joke, ...   \n",
       "868                          [apple, lasting, battery]   \n",
       "869          [iphone, x, looks, price, tag, i, kidney]   \n",
       "\n",
       "                                             remove_sw  \\\n",
       "0      [mir, jan, huawei, weeks, android, sho, moreno]   \n",
       "1                                   [month, resellers]   \n",
       "2     [chopp, jan, hey, guys, iphone, x, please, help]   \n",
       "3    [chopp, jan, hey, guys, iphone, x, please, pit...   \n",
       "4                 [hey, guys, iphone, x, please, help]   \n",
       "..                                                 ...   \n",
       "865  [nov, play, question, yeah, sellers, profits, ...   \n",
       "866  [x, looks, price, tag, kidneylol, ur, kidney, ...   \n",
       "867  [x, looks, price, tag, kidneydon, joke, fools,...   \n",
       "868                          [apple, lasting, battery]   \n",
       "869             [iphone, x, looks, price, tag, kidney]   \n",
       "\n",
       "                                              stemming  \n",
       "0       [mir, jan, huawei, week, android, sho, moreno]  \n",
       "1                                       [month, resel]  \n",
       "2        [chopp, jan, hey, guy, iphon, x, pleas, help]  \n",
       "3    [chopp, jan, hey, guy, iphon, x, pleas, pit, k...  \n",
       "4                    [hey, guy, iphon, x, pleas, help]  \n",
       "..                                                 ...  \n",
       "865  [nov, play, question, yeah, seller, profit, bu...  \n",
       "866  [x, look, price, tag, kidneylol, ur, kidney, p...  \n",
       "867  [x, look, price, tag, kidneydon, joke, fool, i...  \n",
       "868                              [appl, last, batteri]  \n",
       "869               [iphon, x, look, price, tag, kidney]  \n",
       "\n",
       "[841 rows x 6 columns]"
      ]
     },
     "execution_count": 26,
     "metadata": {},
     "output_type": "execute_result"
    }
   ],
   "source": [
    "# 데이터프레임으로 예쁘게!!\n",
    "df_noun = pd.DataFrame({'Reviews' : doc, 'tokenize' : wordpunct_tokenize_result,\n",
    "                  'pos_tag' : pos_result, 'nouns' : nouns, 'remove_sw' : stopwords_removed_nouns,\n",
    "                  'stemming' : stem_nouns})\n",
    "df_noun"
   ]
  },
  {
   "cell_type": "code",
   "execution_count": 27,
   "metadata": {},
   "outputs": [],
   "source": [
    "tokens_nouns = nltk.Text(flatten(stem_nouns))"
   ]
  },
  {
   "cell_type": "code",
   "execution_count": 28,
   "metadata": {},
   "outputs": [
    {
     "data": {
      "text/plain": [
       "[('iphon', 693),\n",
       " ('appl', 543),\n",
       " ('phone', 516),\n",
       " ('x', 449),\n",
       " ('samsung', 209),\n",
       " ('screen', 184),\n",
       " ('display', 138),\n",
       " ('nov', 138),\n",
       " ('peopl', 126),\n",
       " ('dec', 126),\n",
       " ('face', 121),\n",
       " ('price', 114),\n",
       " ('year', 103),\n",
       " ('note', 100),\n",
       " ('time', 99),\n",
       " ('android', 93),\n",
       " ('id', 89),\n",
       " ('batteri', 88),\n",
       " ('problem', 86),\n",
       " ('devic', 81),\n",
       " ('notch', 81),\n",
       " ('thing', 73),\n",
       " ('camera', 71),\n",
       " ('user', 68),\n",
       " ('day', 68),\n",
       " ('issu', 67),\n",
       " ('way', 65),\n",
       " ('jan', 64),\n",
       " ('opinion', 54),\n",
       " ('design', 52),\n",
       " ('game', 50),\n",
       " ('io', 49),\n",
       " ('video', 49),\n",
       " ('button', 48),\n",
       " ('smartphon', 48),\n",
       " ('app', 47),\n",
       " ('lot', 45),\n",
       " ('money', 45),\n",
       " ('scanner', 45),\n",
       " ('duel', 44),\n",
       " ('fan', 44),\n",
       " ('fact', 44),\n",
       " ('featur', 43),\n",
       " ('noth', 43),\n",
       " ('someth', 42),\n",
       " ('reason', 41),\n",
       " ('home', 40),\n",
       " ('product', 39),\n",
       " ('gb', 38),\n",
       " ('market', 37)]"
      ]
     },
     "execution_count": 28,
     "metadata": {},
     "output_type": "execute_result"
    }
   ],
   "source": [
    "# 빈도수 상위 50개\n",
    "tokens_nouns.vocab().most_common(50)"
   ]
  },
  {
   "cell_type": "code",
   "execution_count": 29,
   "metadata": {},
   "outputs": [],
   "source": [
    "import matplotlib.pyplot as plt"
   ]
  },
  {
   "cell_type": "code",
   "execution_count": 30,
   "metadata": {
    "scrolled": false
   },
   "outputs": [
    {
     "data": {
      "image/png": "[encoded data removed]",
      "text/plain": [
       "<Figure size 576x360 with 1 Axes>"
      ]
     },
     "metadata": {
      "needs_background": "light"
     },
     "output_type": "display_data"
    }
   ],
   "source": [
    "%matplotlib inline\n",
    "plt.figure(figsize=(8,5))\n",
    "plt.title('top 50(only noun)')\n",
    "tokens_nouns.plot(50)"
   ]
  }
 ],
 "metadata": {
  "kernelspec": {
   "display_name": "Python 3",
   "language": "python",
   "name": "python3"
  },
  "language_info": {
   "codemirror_mode": {
    "name": "ipython",
    "version": 3
   },
   "file_extension": ".py",
   "mimetype": "text/x-python",
   "name": "python",
   "nbconvert_exporter": "python",
   "pygments_lexer": "ipython3",
   "version": "3.7.6"
  }
 },
 "nbformat": 4,
 "nbformat_minor": 4
}
