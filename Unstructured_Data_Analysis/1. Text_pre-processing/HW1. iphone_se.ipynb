{
 "cells": [
  {
   "cell_type": "code",
   "execution_count": 1,
   "metadata": {},
   "outputs": [],
   "source": [
    "import pandas as pd\n",
    "import nltk\n",
    "import re"
   ]
  },
  {
   "cell_type": "code",
   "execution_count": 2,
   "metadata": {},
   "outputs": [
    {
     "data": {
      "text/html": [
       "<div>\n",
       "<style scoped>\n",
       "    .dataframe tbody tr th:only-of-type {\n",
       "        vertical-align: middle;\n",
       "    }\n",
       "\n",
       "    .dataframe tbody tr th {\n",
       "        vertical-align: top;\n",
       "    }\n",
       "\n",
       "    .dataframe thead th {\n",
       "        text-align: right;\n",
       "    }\n",
       "</style>\n",
       "<table border=\"1\" class=\"dataframe\">\n",
       "  <thead>\n",
       "    <tr style=\"text-align: right;\">\n",
       "      <th></th>\n",
       "      <th>Num</th>\n",
       "      <th>Reviews</th>\n",
       "    </tr>\n",
       "  </thead>\n",
       "  <tbody>\n",
       "    <tr>\n",
       "      <th>0</th>\n",
       "      <td>0</td>\n",
       "      <td>Great camera for pics and videos Battery life ...</td>\n",
       "    </tr>\n",
       "    <tr>\n",
       "      <th>1</th>\n",
       "      <td>1</td>\n",
       "      <td>Great device. Let me tell the Pros..1. Superb ...</td>\n",
       "    </tr>\n",
       "    <tr>\n",
       "      <th>2</th>\n",
       "      <td>2</td>\n",
       "      <td>Who all loves older size i.e., 4.7 inch type s...</td>\n",
       "    </tr>\n",
       "    <tr>\n",
       "      <th>3</th>\n",
       "      <td>3</td>\n",
       "      <td>This iPhone SE is the best phone ever you get....</td>\n",
       "    </tr>\n",
       "    <tr>\n",
       "      <th>4</th>\n",
       "      <td>4</td>\n",
       "      <td>This is my second iphone after iphone 4s. I?�v...</td>\n",
       "    </tr>\n",
       "    <tr>\n",
       "      <th>...</th>\n",
       "      <td>...</td>\n",
       "      <td>...</td>\n",
       "    </tr>\n",
       "    <tr>\n",
       "      <th>976</th>\n",
       "      <td>976</td>\n",
       "      <td>OkREAD MORE</td>\n",
       "    </tr>\n",
       "    <tr>\n",
       "      <th>977</th>\n",
       "      <td>977</td>\n",
       "      <td>Everything is perfect except batteryREAD MORE</td>\n",
       "    </tr>\n",
       "    <tr>\n",
       "      <th>978</th>\n",
       "      <td>978</td>\n",
       "      <td>Totally good but no facility of call recordREA...</td>\n",
       "    </tr>\n",
       "    <tr>\n",
       "      <th>979</th>\n",
       "      <td>979</td>\n",
       "      <td>Good ProductREAD MORE</td>\n",
       "    </tr>\n",
       "    <tr>\n",
       "      <th>980</th>\n",
       "      <td>980</td>\n",
       "      <td>Delivered on time. If u are looking for compac...</td>\n",
       "    </tr>\n",
       "  </tbody>\n",
       "</table>\n",
       "<p>981 rows × 2 columns</p>\n",
       "</div>"
      ],
      "text/plain": [
       "     Num                                            Reviews\n",
       "0      0  Great camera for pics and videos Battery life ...\n",
       "1      1  Great device. Let me tell the Pros..1. Superb ...\n",
       "2      2  Who all loves older size i.e., 4.7 inch type s...\n",
       "3      3  This iPhone SE is the best phone ever you get....\n",
       "4      4  This is my second iphone after iphone 4s. I?�v...\n",
       "..   ...                                                ...\n",
       "976  976                                        OkREAD MORE\n",
       "977  977      Everything is perfect except batteryREAD MORE\n",
       "978  978  Totally good but no facility of call recordREA...\n",
       "979  979                              Good ProductREAD MORE\n",
       "980  980  Delivered on time. If u are looking for compac...\n",
       "\n",
       "[981 rows x 2 columns]"
      ]
     },
     "execution_count": 2,
     "metadata": {},
     "output_type": "execute_result"
    }
   ],
   "source": [
    "data = pd.read_csv('IPhone-SE_Review.csv', engine='python')\n",
    "data"
   ]
  },
  {
   "cell_type": "code",
   "execution_count": 3,
   "metadata": {},
   "outputs": [
    {
     "data": {
      "text/plain": [
       "0      Great camera for pics and videos Battery life ...\n",
       "1      Great device. Let me tell the Pros..1. Superb ...\n",
       "2      Who all loves older size i.e., 4.7 inch type s...\n",
       "3      This iPhone SE is the best phone ever you get....\n",
       "4      This is my second iphone after iphone 4s. I?�v...\n",
       "                             ...                        \n",
       "976                                          OkREAD MORE\n",
       "977        Everything is perfect except batteryREAD MORE\n",
       "978    Totally good but no facility of call recordREA...\n",
       "979                                Good ProductREAD MORE\n",
       "980    Delivered on time. If u are looking for compac...\n",
       "Name: Reviews, Length: 981, dtype: object"
      ]
     },
     "execution_count": 3,
     "metadata": {},
     "output_type": "execute_result"
    }
   ],
   "source": [
    "doc = data['Reviews']\n",
    "doc"
   ]
  },
  {
   "cell_type": "code",
   "execution_count": 4,
   "metadata": {},
   "outputs": [],
   "source": [
    "# 텍스트 cleaning\n",
    "def clean_text(text):\n",
    "    \n",
    "    pattern = re.compile('[\\u3131-\\u3163\\uac00-\\ud7a3]+')\n",
    "    text = re.sub(pattern = pattern,repl = ' ',string = text) #한글삭제(인코딩 오류인지,,, 셿 이런 단어가 생기길래 삭제,,)\n",
    "    \n",
    "    pattern = '(\\[a-zA-Z0-9\\_.+-\\]+@\\[a-zA-Z0-9]+.\\[a-zA-Z0-9-.\\]+)' # email제거\n",
    "    text = re.sub(pattern = pattern,repl = ' ',string = text)\n",
    "    \n",
    "    pattern = re.compile(r'([^\\w]?\\d+\\.?\\,?\\)?\\d*)+') # 숫자 제거\n",
    "    text = re.sub(pattern = pattern,repl = ' ',string = text)\n",
    "    \n",
    "    pattern = '<[^>]*>' # html 태그 제거\n",
    "    text = re.sub(pattern = pattern,repl = ' ',string = text)\n",
    "    \n",
    "    pattern = '[\\r|\\n]' # \\r,\\n 제거\n",
    "    text = re.sub(pattern = pattern,repl = ' ',string = text)\n",
    "    \n",
    "    pattern =  '[^\\w\\s]' # 특수기호 제거\n",
    "    text = re.sub(pattern = pattern,repl = ' ',string = text)\n",
    "    \n",
    "    pattern = re.compile(r'\\s+')  #  이중 space 제거\n",
    "    text = re.sub(pattern = pattern,repl = ' ',string = text)\n",
    "\n",
    "    text = text.lower()\n",
    "    return text"
   ]
  },
  {
   "cell_type": "code",
   "execution_count": 5,
   "metadata": {},
   "outputs": [
    {
     "data": {
      "text/plain": [
       "0      great camera for pics and videos battery life ...\n",
       "1      great device let me tell the pros superb build...\n",
       "2      who all loves older size i e inch type should ...\n",
       "3      this iphone se is the best phone ever you get ...\n",
       "4      this is my second iphone after iphone s i ve b...\n",
       "                             ...                        \n",
       "976                                          okread more\n",
       "977        everything is perfect except batteryread more\n",
       "978    totally good but no facility of call recordrea...\n",
       "979                                good productread more\n",
       "980    delivered on time if u are looking for compact...\n",
       "Name: Reviews, Length: 981, dtype: object"
      ]
     },
     "execution_count": 5,
     "metadata": {},
     "output_type": "execute_result"
    }
   ],
   "source": [
    "doc = doc.apply(clean_text)\n",
    "doc"
   ]
  },
  {
   "cell_type": "markdown",
   "metadata": {},
   "source": [
    "### 1. Tokenizing"
   ]
  },
  {
   "cell_type": "code",
   "execution_count": 8,
   "metadata": {},
   "outputs": [],
   "source": [
    "wordpunct_tokenize_result = doc.apply(wordpunct_tokenize)"
   ]
  },
  {
   "cell_type": "code",
   "execution_count": 7,
   "metadata": {},
   "outputs": [
    {
     "name": "stdout",
     "output_type": "stream",
     "text": [
      "0      [great, camera, for, pics, and, videos, batter...\n",
      "1      [great, device, let, me, tell, the, pros, supe...\n",
      "2      [who, all, loves, older, size, i, e, inch, typ...\n",
      "3      [this, iphone, se, is, the, best, phone, ever,...\n",
      "4      [this, is, my, second, iphone, after, iphone, ...\n",
      "                             ...                        \n",
      "976                                       [okread, more]\n",
      "977    [everything, is, perfect, except, batteryread,...\n",
      "978    [totally, good, but, no, facility, of, call, r...\n",
      "979                            [good, productread, more]\n",
      "980    [delivered, on, time, if, u, are, looking, for...\n",
      "Name: Reviews, Length: 981, dtype: object\n"
     ]
    }
   ],
   "source": [
    "print(wordpunct_tokenize_result)"
   ]
  },
  {
   "cell_type": "markdown",
   "metadata": {},
   "source": [
    "### 2. POS tagging"
   ]
  },
  {
   "cell_type": "code",
   "execution_count": 12,
   "metadata": {},
   "outputs": [
    {
     "name": "stdout",
     "output_type": "stream",
     "text": [
      "0      [(great, JJ), (camera, NN), (for, IN), (pics, ...\n",
      "1      [(great, JJ), (device, NN), (let, VB), (me, PR...\n",
      "2      [(who, WP), (all, DT), (loves, VBZ), (older, J...\n",
      "3      [(this, DT), (iphone, NN), (se, NN), (is, VBZ)...\n",
      "4      [(this, DT), (is, VBZ), (my, PRP$), (second, J...\n",
      "                             ...                        \n",
      "976                          [(okread, RB), (more, RBR)]\n",
      "977    [(everything, NN), (is, VBZ), (perfect, JJ), (...\n",
      "978    [(totally, RB), (good, JJ), (but, CC), (no, DT...\n",
      "979         [(good, JJ), (productread, NN), (more, RBR)]\n",
      "980    [(delivered, VBN), (on, IN), (time, NN), (if, ...\n",
      "Name: Reviews, Length: 981, dtype: object\n"
     ]
    }
   ],
   "source": [
    "pos_result = wordpunct_tokenize_result.apply(nltk.pos_tag)\n",
    "print(pos_result)"
   ]
  },
  {
   "cell_type": "markdown",
   "metadata": {},
   "source": [
    "### 3. Stopword 제거"
   ]
  },
  {
   "cell_type": "code",
   "execution_count": 15,
   "metadata": {},
   "outputs": [],
   "source": [
    "import string\n",
    "from nltk.corpus import wordnet as wn\n",
    "from nltk.corpus import stopwords\n",
    "from nltk.stem.wordnet import WordNetLemmatizer\n",
    "\n",
    "lemmatizer  = WordNetLemmatizer()\n",
    "stopwords   = set(stopwords.words('english'))\n",
    "punctuation = string.punctuation"
   ]
  },
  {
   "cell_type": "code",
   "execution_count": 16,
   "metadata": {},
   "outputs": [],
   "source": [
    "def remove_stopwords(text):\n",
    "    remove_sw = [w for w in text if w not in stopwords and w not in punctuation]\n",
    "    return remove_sw"
   ]
  },
  {
   "cell_type": "code",
   "execution_count": 17,
   "metadata": {},
   "outputs": [
    {
     "data": {
      "text/plain": [
       "0      [great, camera, pics, videos, battery, life, g...\n",
       "1      [great, device, let, tell, pros, superb, build...\n",
       "2      [loves, older, size, e, inch, type, definitely...\n",
       "3      [iphone, se, best, phone, ever, get, beautiful...\n",
       "4      [second, iphone, iphone, long, time, android, ...\n",
       "                             ...                        \n",
       "976                                             [okread]\n",
       "977           [everything, perfect, except, batteryread]\n",
       "978          [totally, good, facility, call, recordread]\n",
       "979                                  [good, productread]\n",
       "980    [delivered, time, u, looking, compact, budget,...\n",
       "Name: Reviews, Length: 981, dtype: object"
      ]
     },
     "execution_count": 17,
     "metadata": {},
     "output_type": "execute_result"
    }
   ],
   "source": [
    "stopwords_removed = wordpunct_tokenize_result.apply(remove_stopwords)\n",
    "stopwords_removed"
   ]
  },
  {
   "cell_type": "markdown",
   "metadata": {},
   "source": [
    "### 4. Stemming"
   ]
  },
  {
   "cell_type": "code",
   "execution_count": 18,
   "metadata": {},
   "outputs": [],
   "source": [
    "from nltk.stem.snowball import SnowballStemmer\n",
    "snowball = SnowballStemmer('english')"
   ]
  },
  {
   "cell_type": "code",
   "execution_count": 19,
   "metadata": {},
   "outputs": [],
   "source": [
    "def stemming(text):\n",
    "    stemmed_text = [snowball.stem(t) for t in text]\n",
    "    return stemmed_text"
   ]
  },
  {
   "cell_type": "code",
   "execution_count": 20,
   "metadata": {},
   "outputs": [
    {
     "data": {
      "text/plain": [
       "0      [great, camera, pic, video, batteri, life, goo...\n",
       "1      [great, devic, let, tell, pros, superb, build,...\n",
       "2      [love, older, size, e, inch, type, definit, go...\n",
       "3      [iphon, se, best, phone, ever, get, beauti, de...\n",
       "4      [second, iphon, iphon, long, time, android, us...\n",
       "                             ...                        \n",
       "976                                             [okread]\n",
       "977              [everyth, perfect, except, batteryread]\n",
       "978               [total, good, facil, call, recordread]\n",
       "979                                  [good, productread]\n",
       "980    [deliv, time, u, look, compact, budget, friend...\n",
       "Name: Reviews, Length: 981, dtype: object"
      ]
     },
     "execution_count": 20,
     "metadata": {},
     "output_type": "execute_result"
    }
   ],
   "source": [
    "stem = stopwords_removed.apply(stemming)\n",
    "stem"
   ]
  },
  {
   "cell_type": "code",
   "execution_count": 21,
   "metadata": {},
   "outputs": [
    {
     "data": {
      "text/html": [
       "<div>\n",
       "<style scoped>\n",
       "    .dataframe tbody tr th:only-of-type {\n",
       "        vertical-align: middle;\n",
       "    }\n",
       "\n",
       "    .dataframe tbody tr th {\n",
       "        vertical-align: top;\n",
       "    }\n",
       "\n",
       "    .dataframe thead th {\n",
       "        text-align: right;\n",
       "    }\n",
       "</style>\n",
       "<table border=\"1\" class=\"dataframe\">\n",
       "  <thead>\n",
       "    <tr style=\"text-align: right;\">\n",
       "      <th></th>\n",
       "      <th>Reviews</th>\n",
       "      <th>tokenize</th>\n",
       "      <th>pos_tag</th>\n",
       "      <th>remove_sw</th>\n",
       "      <th>stemming</th>\n",
       "    </tr>\n",
       "  </thead>\n",
       "  <tbody>\n",
       "    <tr>\n",
       "      <th>0</th>\n",
       "      <td>great camera for pics and videos battery life ...</td>\n",
       "      <td>[great, camera, for, pics, and, videos, batter...</td>\n",
       "      <td>[(great, JJ), (camera, NN), (for, IN), (pics, ...</td>\n",
       "      <td>[great, camera, pics, videos, battery, life, g...</td>\n",
       "      <td>[great, camera, pic, video, batteri, life, goo...</td>\n",
       "    </tr>\n",
       "    <tr>\n",
       "      <th>1</th>\n",
       "      <td>great device let me tell the pros superb build...</td>\n",
       "      <td>[great, device, let, me, tell, the, pros, supe...</td>\n",
       "      <td>[(great, JJ), (device, NN), (let, VB), (me, PR...</td>\n",
       "      <td>[great, device, let, tell, pros, superb, build...</td>\n",
       "      <td>[great, devic, let, tell, pros, superb, build,...</td>\n",
       "    </tr>\n",
       "    <tr>\n",
       "      <th>2</th>\n",
       "      <td>who all loves older size i e inch type should ...</td>\n",
       "      <td>[who, all, loves, older, size, i, e, inch, typ...</td>\n",
       "      <td>[(who, WP), (all, DT), (loves, VBZ), (older, J...</td>\n",
       "      <td>[loves, older, size, e, inch, type, definitely...</td>\n",
       "      <td>[love, older, size, e, inch, type, definit, go...</td>\n",
       "    </tr>\n",
       "    <tr>\n",
       "      <th>3</th>\n",
       "      <td>this iphone se is the best phone ever you get ...</td>\n",
       "      <td>[this, iphone, se, is, the, best, phone, ever,...</td>\n",
       "      <td>[(this, DT), (iphone, NN), (se, NN), (is, VBZ)...</td>\n",
       "      <td>[iphone, se, best, phone, ever, get, beautiful...</td>\n",
       "      <td>[iphon, se, best, phone, ever, get, beauti, de...</td>\n",
       "    </tr>\n",
       "    <tr>\n",
       "      <th>4</th>\n",
       "      <td>this is my second iphone after iphone s i ve b...</td>\n",
       "      <td>[this, is, my, second, iphone, after, iphone, ...</td>\n",
       "      <td>[(this, DT), (is, VBZ), (my, PRP$), (second, J...</td>\n",
       "      <td>[second, iphone, iphone, long, time, android, ...</td>\n",
       "      <td>[second, iphon, iphon, long, time, android, us...</td>\n",
       "    </tr>\n",
       "    <tr>\n",
       "      <th>...</th>\n",
       "      <td>...</td>\n",
       "      <td>...</td>\n",
       "      <td>...</td>\n",
       "      <td>...</td>\n",
       "      <td>...</td>\n",
       "    </tr>\n",
       "    <tr>\n",
       "      <th>976</th>\n",
       "      <td>okread more</td>\n",
       "      <td>[okread, more]</td>\n",
       "      <td>[(okread, RB), (more, RBR)]</td>\n",
       "      <td>[okread]</td>\n",
       "      <td>[okread]</td>\n",
       "    </tr>\n",
       "    <tr>\n",
       "      <th>977</th>\n",
       "      <td>everything is perfect except batteryread more</td>\n",
       "      <td>[everything, is, perfect, except, batteryread,...</td>\n",
       "      <td>[(everything, NN), (is, VBZ), (perfect, JJ), (...</td>\n",
       "      <td>[everything, perfect, except, batteryread]</td>\n",
       "      <td>[everyth, perfect, except, batteryread]</td>\n",
       "    </tr>\n",
       "    <tr>\n",
       "      <th>978</th>\n",
       "      <td>totally good but no facility of call recordrea...</td>\n",
       "      <td>[totally, good, but, no, facility, of, call, r...</td>\n",
       "      <td>[(totally, RB), (good, JJ), (but, CC), (no, DT...</td>\n",
       "      <td>[totally, good, facility, call, recordread]</td>\n",
       "      <td>[total, good, facil, call, recordread]</td>\n",
       "    </tr>\n",
       "    <tr>\n",
       "      <th>979</th>\n",
       "      <td>good productread more</td>\n",
       "      <td>[good, productread, more]</td>\n",
       "      <td>[(good, JJ), (productread, NN), (more, RBR)]</td>\n",
       "      <td>[good, productread]</td>\n",
       "      <td>[good, productread]</td>\n",
       "    </tr>\n",
       "    <tr>\n",
       "      <th>980</th>\n",
       "      <td>delivered on time if u are looking for compact...</td>\n",
       "      <td>[delivered, on, time, if, u, are, looking, for...</td>\n",
       "      <td>[(delivered, VBN), (on, IN), (time, NN), (if, ...</td>\n",
       "      <td>[delivered, time, u, looking, compact, budget,...</td>\n",
       "      <td>[deliv, time, u, look, compact, budget, friend...</td>\n",
       "    </tr>\n",
       "  </tbody>\n",
       "</table>\n",
       "<p>981 rows × 5 columns</p>\n",
       "</div>"
      ],
      "text/plain": [
       "                                               Reviews  \\\n",
       "0    great camera for pics and videos battery life ...   \n",
       "1    great device let me tell the pros superb build...   \n",
       "2    who all loves older size i e inch type should ...   \n",
       "3    this iphone se is the best phone ever you get ...   \n",
       "4    this is my second iphone after iphone s i ve b...   \n",
       "..                                                 ...   \n",
       "976                                        okread more   \n",
       "977      everything is perfect except batteryread more   \n",
       "978  totally good but no facility of call recordrea...   \n",
       "979                              good productread more   \n",
       "980  delivered on time if u are looking for compact...   \n",
       "\n",
       "                                              tokenize  \\\n",
       "0    [great, camera, for, pics, and, videos, batter...   \n",
       "1    [great, device, let, me, tell, the, pros, supe...   \n",
       "2    [who, all, loves, older, size, i, e, inch, typ...   \n",
       "3    [this, iphone, se, is, the, best, phone, ever,...   \n",
       "4    [this, is, my, second, iphone, after, iphone, ...   \n",
       "..                                                 ...   \n",
       "976                                     [okread, more]   \n",
       "977  [everything, is, perfect, except, batteryread,...   \n",
       "978  [totally, good, but, no, facility, of, call, r...   \n",
       "979                          [good, productread, more]   \n",
       "980  [delivered, on, time, if, u, are, looking, for...   \n",
       "\n",
       "                                               pos_tag  \\\n",
       "0    [(great, JJ), (camera, NN), (for, IN), (pics, ...   \n",
       "1    [(great, JJ), (device, NN), (let, VB), (me, PR...   \n",
       "2    [(who, WP), (all, DT), (loves, VBZ), (older, J...   \n",
       "3    [(this, DT), (iphone, NN), (se, NN), (is, VBZ)...   \n",
       "4    [(this, DT), (is, VBZ), (my, PRP$), (second, J...   \n",
       "..                                                 ...   \n",
       "976                        [(okread, RB), (more, RBR)]   \n",
       "977  [(everything, NN), (is, VBZ), (perfect, JJ), (...   \n",
       "978  [(totally, RB), (good, JJ), (but, CC), (no, DT...   \n",
       "979       [(good, JJ), (productread, NN), (more, RBR)]   \n",
       "980  [(delivered, VBN), (on, IN), (time, NN), (if, ...   \n",
       "\n",
       "                                             remove_sw  \\\n",
       "0    [great, camera, pics, videos, battery, life, g...   \n",
       "1    [great, device, let, tell, pros, superb, build...   \n",
       "2    [loves, older, size, e, inch, type, definitely...   \n",
       "3    [iphone, se, best, phone, ever, get, beautiful...   \n",
       "4    [second, iphone, iphone, long, time, android, ...   \n",
       "..                                                 ...   \n",
       "976                                           [okread]   \n",
       "977         [everything, perfect, except, batteryread]   \n",
       "978        [totally, good, facility, call, recordread]   \n",
       "979                                [good, productread]   \n",
       "980  [delivered, time, u, looking, compact, budget,...   \n",
       "\n",
       "                                              stemming  \n",
       "0    [great, camera, pic, video, batteri, life, goo...  \n",
       "1    [great, devic, let, tell, pros, superb, build,...  \n",
       "2    [love, older, size, e, inch, type, definit, go...  \n",
       "3    [iphon, se, best, phone, ever, get, beauti, de...  \n",
       "4    [second, iphon, iphon, long, time, android, us...  \n",
       "..                                                 ...  \n",
       "976                                           [okread]  \n",
       "977            [everyth, perfect, except, batteryread]  \n",
       "978             [total, good, facil, call, recordread]  \n",
       "979                                [good, productread]  \n",
       "980  [deliv, time, u, look, compact, budget, friend...  \n",
       "\n",
       "[981 rows x 5 columns]"
      ]
     },
     "execution_count": 21,
     "metadata": {},
     "output_type": "execute_result"
    }
   ],
   "source": [
    "# 데이터프레임으로 예쁘게!!\n",
    "df = pd.DataFrame({'Reviews' : doc, 'tokenize' : wordpunct_tokenize_result,\n",
    "                  'pos_tag' : pos_result, 'remove_sw' : stopwords_removed,\n",
    "                  'stemming' : stem})\n",
    "df"
   ]
  },
  {
   "cell_type": "markdown",
   "metadata": {},
   "source": [
    "### 5. 빈도수 시각화"
   ]
  },
  {
   "cell_type": "code",
   "execution_count": 22,
   "metadata": {},
   "outputs": [],
   "source": [
    "def flatten(l):\n",
    "    flatList=[]\n",
    "    for elem in l:\n",
    "        if type(elem) == list:\n",
    "            for e in elem:\n",
    "                flatList.append(e)\n",
    "        else:\n",
    "            flatList.append(elem)\n",
    "    return flatList"
   ]
  },
  {
   "cell_type": "code",
   "execution_count": 25,
   "metadata": {},
   "outputs": [],
   "source": [
    "tokens = nltk.Text(flatten(stem))"
   ]
  },
  {
   "cell_type": "code",
   "execution_count": 27,
   "metadata": {},
   "outputs": [
    {
     "data": {
      "text/plain": [
       "[('phone', 845),\n",
       " ('read', 655),\n",
       " ('batteri', 624),\n",
       " ('iphon', 434),\n",
       " ('good', 427),\n",
       " ('camera', 359),\n",
       " ('use', 351),\n",
       " ('perform', 286),\n",
       " ('best', 221),\n",
       " ('appl', 202),\n",
       " ('day', 188),\n",
       " ('one', 182),\n",
       " ('great', 172),\n",
       " ('like', 158),\n",
       " ('product', 158),\n",
       " ('small', 151),\n",
       " ('buy', 150),\n",
       " ('size', 141),\n",
       " ('se', 137),\n",
       " ('screen', 135),\n",
       " ('fast', 128),\n",
       " ('charg', 127),\n",
       " ('awesom', 126),\n",
       " ('time', 123),\n",
       " ('qualiti', 122),\n",
       " ('get', 120),\n",
       " ('love', 117),\n",
       " ('android', 117),\n",
       " ('display', 116),\n",
       " ('go', 116),\n",
       " ('user', 115),\n",
       " ('price', 114),\n",
       " ('first', 108),\n",
       " ('life', 106),\n",
       " ('amaz', 102),\n",
       " ('also', 102),\n",
       " ('game', 100),\n",
       " ('look', 99),\n",
       " ('mobil', 95),\n",
       " ('last', 95),\n",
       " ('better', 94),\n",
       " ('compact', 88),\n",
       " ('want', 88),\n",
       " ('money', 86),\n",
       " ('power', 84),\n",
       " ('usag', 84),\n",
       " ('handi', 84),\n",
       " ('hour', 82),\n",
       " ('flipkart', 79),\n",
       " ('feel', 78)]"
      ]
     },
     "execution_count": 27,
     "metadata": {},
     "output_type": "execute_result"
    }
   ],
   "source": [
    "# 빈도수 상위 50개\n",
    "tokens.vocab().most_common(50)"
   ]
  },
  {
   "cell_type": "code",
   "execution_count": 29,
   "metadata": {},
   "outputs": [],
   "source": [
    "import matplotlib.pyplot as plt"
   ]
  },
  {
   "cell_type": "code",
   "execution_count": 30,
   "metadata": {
    "scrolled": false
   },
   "outputs": [
    {
     "data": {
      "image/png": "[encoded data removed]",
      "text/plain": [
       "<Figure size 576x360 with 1 Axes>"
      ]
     },
     "metadata": {
      "needs_background": "light"
     },
     "output_type": "display_data"
    }
   ],
   "source": [
    "%matplotlib inline\n",
    "plt.figure(figsize=(8,5))\n",
    "plt.title('top 50')\n",
    "tokens.plot(50)"
   ]
  },
  {
   "cell_type": "markdown",
   "metadata": {},
   "source": [
    "### 명사 상위 50개 추출"
   ]
  },
  {
   "cell_type": "code",
   "execution_count": 31,
   "metadata": {},
   "outputs": [],
   "source": [
    "def only_nouns(token_pos):\n",
    "    nouns = []\n",
    "    for word, pos in token_pos:\n",
    "        if 'NN' in pos:\n",
    "            nouns.append(word)\n",
    "    return nouns"
   ]
  },
  {
   "cell_type": "code",
   "execution_count": null,
   "metadata": {
    "scrolled": true
   },
   "outputs": [],
   "source": [
    "nouns = pos_result.apply(only_nouns)\n",
    "print(nouns)"
   ]
  },
  {
   "cell_type": "code",
   "execution_count": null,
   "metadata": {},
   "outputs": [],
   "source": [
    "# 불용어 제거\n",
    "stopwords_removed_nouns = nouns.apply(remove_stopwords)\n",
    "stopwords_removed_nouns"
   ]
  },
  {
   "cell_type": "code",
   "execution_count": null,
   "metadata": {},
   "outputs": [],
   "source": [
    "stem_nouns = stopwords_removed_nouns.apply(stemming)\n",
    "stem_nouns"
   ]
  },
  {
   "cell_type": "code",
   "execution_count": null,
   "metadata": {
    "scrolled": false
   },
   "outputs": [],
   "source": [
    "# 데이터프레임으로 예쁘게!!\n",
    "df_noun = pd.DataFrame({'Reviews' : doc, 'tokenize' : wordpunct_tokenize_result,\n",
    "                  'pos_tag' : pos_result, 'nouns' : nouns, 'remove_sw' : stopwords_removed_nouns,\n",
    "                  'stemming' : stem_nouns})\n",
    "df_noun"
   ]
  },
  {
   "cell_type": "code",
   "execution_count": null,
   "metadata": {},
   "outputs": [],
   "source": [
    "tokens_nouns = nltk.Text(flatten(stem_nouns))"
   ]
  },
  {
   "cell_type": "code",
   "execution_count": null,
   "metadata": {},
   "outputs": [],
   "source": [
    "# 빈도수 상위 50개\n",
    "tokens_nouns.vocab().most_common(50)"
   ]
  },
  {
   "cell_type": "code",
   "execution_count": null,
   "metadata": {},
   "outputs": [],
   "source": [
    "import matplotlib.pyplot as plt"
   ]
  },
  {
   "cell_type": "code",
   "execution_count": null,
   "metadata": {
    "scrolled": false
   },
   "outputs": [],
   "source": [
    "%matplotlib inline\n",
    "plt.figure(figsize=(8,5))\n",
    "plt.title('top 50(only noun)')\n",
    "tokens_nouns.plot(50)"
   ]
  }
 ],
 "metadata": {
  "kernelspec": {
   "display_name": "Python 3",
   "language": "python",
   "name": "python3"
  },
  "language_info": {
   "codemirror_mode": {
    "name": "ipython",
    "version": 3
   },
   "file_extension": ".py",
   "mimetype": "text/x-python",
   "name": "python",
   "nbconvert_exporter": "python",
   "pygments_lexer": "ipython3",
   "version": "3.8.8"
  }
 },
 "nbformat": 4,
 "nbformat_minor": 4
}
