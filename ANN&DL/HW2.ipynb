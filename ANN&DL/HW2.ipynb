{
  "nbformat": 4,
  "nbformat_minor": 0,
  "metadata": {
    "colab": {
      "name": "DL_HW2_정주현_21512023.ipynb",
      "provenance": [],
      "collapsed_sections": []
    },
    "kernelspec": {
      "name": "python3",
      "display_name": "Python 3"
    },
    "language_info": {
      "name": "python"
    },
    "accelerator": "GPU"
  },
  "cells": [
    {
      "cell_type": "code",
      "execution_count": null,
      "metadata": {
        "id": "gQ6MFOa-rJeI"
      },
      "outputs": [],
      "source": [
        "import torch\n",
        "import torchvision.transforms as tr # 이미지 전처리 기능들을 제공하는 라이브러리\n",
        "import torchvision.datasets as datasets\n",
        "from torch.utils.data import DataLoader, Dataset # 데이터를 모델에 사용할 수 있도록 정리해 주는 라이브러리\n",
        "from torch import nn, optim # torch 내의 세부적인 기능을 불러온다. (신경망 기술, 손실함수, 최적화 방법 등)\n",
        "import torch.nn.functional as F\n",
        "\n",
        "import numpy as np # 넘파이 기본 라이브러리\n",
        "import matplotlib.pyplot as plt #시각화\n",
        "from sklearn.metrics import confusion_matrix # confusion matrix그리기용\n",
        "import pandas as pd\n",
        "import itertools\n",
        "import os\n"
      ]
    },
    {
      "cell_type": "code",
      "source": [
        "torch.manual_seed(1) #  random seed를 고정"
      ],
      "metadata": {
        "colab": {
          "base_uri": "https://localhost:8080/"
        },
        "id": "VXR7vG4JcGUj",
        "outputId": "1fec43ed-1353-493b-c4e5-c8ce49ab42b4"
      },
      "execution_count": null,
      "outputs": [
        {
          "output_type": "execute_result",
          "data": {
            "text/plain": [
              "<torch._C.Generator at 0x7f6330609750>"
            ]
          },
          "metadata": {},
          "execution_count": 2
        }
      ]
    },
    {
      "cell_type": "code",
      "source": [
        "# CPU/GPU\n",
        "device = torch.device(\"cuda:0\" if torch.cuda.is_available() else \"cpu\")\n",
        "print(f'{device} is available.')"
      ],
      "metadata": {
        "colab": {
          "base_uri": "https://localhost:8080/"
        },
        "id": "UtrqNpulriTR",
        "outputId": "3b40bfad-96c2-4eab-c2be-c9668f2731f3"
      },
      "execution_count": null,
      "outputs": [
        {
          "output_type": "stream",
          "name": "stdout",
          "text": [
            "cuda:0 is available.\n"
          ]
        }
      ]
    },
    {
      "cell_type": "code",
      "source": [
        "# 구글 드라이브 마운트\n",
        "from google.colab import drive\n",
        "drive.mount('/content/gdrive/', force_remount=True)"
      ],
      "metadata": {
        "colab": {
          "base_uri": "https://localhost:8080/"
        },
        "id": "o_cuK_dWN0CQ",
        "outputId": "cd2b9617-87d9-44e7-df56-f9ac3a5a92a8"
      },
      "execution_count": null,
      "outputs": [
        {
          "output_type": "stream",
          "name": "stdout",
          "text": [
            "Mounted at /content/gdrive/\n"
          ]
        }
      ]
    },
    {
      "cell_type": "code",
      "source": [
        "default_path= '/content/gdrive/MyDrive/22.1/인공신경망과딥러닝/HW/UCI HAR Dataset/UCI HAR Dataset/'"
      ],
      "metadata": {
        "id": "z63UWX35RGQM"
      },
      "execution_count": null,
      "outputs": []
    },
    {
      "cell_type": "markdown",
      "source": [
        "### Data Load\n"
      ],
      "metadata": {
        "id": "6rOncE2ZstAG"
      }
    },
    {
      "cell_type": "markdown",
      "source": [
        "Data 전처리 코드  \n"
      ],
      "metadata": {
        "id": "MgfVEy9tcSbe"
      }
    },
    {
      "cell_type": "code",
      "source": [
        "# reference : https://github.com/nicolas-chaulet/human-activity-recognition/blob/master/src/dataset/ucihar.py\n",
        "class UCIHAR(torch.utils.data.Dataset):\n",
        "    def __init__(self,raw_dir, split='train', channel_first=True):\n",
        "        self._raw_dir = raw_dir\n",
        "        self._split = split\n",
        "        self._record_folder = os.path.join(self._raw_dir,split)\n",
        "\n",
        "\n",
        "        \n",
        "        self.X, self.y = self.load_dataset_group()\n",
        "        if channel_first:\n",
        "            self.X = self.X.transpose(2,1) #[B, C, T] time is the last dimension in pytorch\n",
        "            self._n_timesteps = self.X.shape[-1]\n",
        "            self._n_features = self.X.shape[1]\n",
        "        else:\n",
        "            self._n_timesteps = self.X.shape[1]\n",
        "            self._n_features = self.X.shape[-1]\n",
        "        self.y -= 1 # Labels start at 0\n",
        "        self.y = self.y.squeeze(-1)\n",
        "        print(self.y.shape)\n",
        "        print(self.X.shape)\n",
        "\n",
        "    def __len__(self):\n",
        "        return self.y.shape[0]\n",
        "\n",
        "    def __getitem__(self, index):\n",
        "        return self.X[index], self.y[index]\n",
        "\n",
        "    @property\n",
        "    def n_timesteps(self):\n",
        "       return self._n_timesteps\n",
        "\n",
        "    @property\n",
        "    def n_features(self):\n",
        "        return self._n_features\n",
        "\n",
        "    @property\n",
        "    def n_labels(self):\n",
        "        return torch.max(self.y).item() + 1\n",
        "\n",
        "    # load a single file as a numpy array\n",
        "    @staticmethod\n",
        "    def load_file(filepath):\n",
        "        dataframe = pd.read_csv(filepath, header=None, delim_whitespace=True)\n",
        "        return dataframe.values\n",
        "    \n",
        "    # load a list of files and return as a 3d numpy array\n",
        "    @staticmethod\n",
        "    def load_X(filenames, prefix = \"\"):\n",
        "        loaded = list()\n",
        "        for name in filenames:\n",
        "            data = UCIHAR.load_file(os.path.join(prefix,name))\n",
        "            loaded.append(data)\n",
        "        # stack group so that features are the 3rd dimension\n",
        "        loaded = np.dstack(loaded)\n",
        "        return loaded\n",
        "\n",
        "    def load_dataset_group(self):\n",
        "        filepath = os.path.join(self._record_folder,'Inertial Signals/')\n",
        "        # load all 9 files as a single array\n",
        "        filenames = list()\n",
        "        # total acceleration\n",
        "        filenames += ['total_acc_x_'+self._split+'.txt', 'total_acc_y_'+self._split+'.txt', 'total_acc_z_'+self._split+'.txt']\n",
        "        # body acceleration\n",
        "        filenames += ['body_acc_x_'+self._split+'.txt', 'body_acc_y_'+self._split+'.txt', 'body_acc_z_'+self._split+'.txt']\n",
        "        # body gyroscope\n",
        "        filenames += ['body_gyro_x_'+self._split+'.txt', 'body_gyro_y_'+self._split+'.txt', 'body_gyro_z_'+self._split+'.txt']\n",
        "        # load input data\n",
        "        X = UCIHAR.load_X(filenames, filepath)\n",
        "        # load class output\n",
        "        y = UCIHAR.load_file(os.path.join(self._record_folder, 'y_'+self._split+'.txt'))\n",
        "        return torch.tensor(X, dtype=torch.float), torch.tensor(y, dtype=torch.long)"
      ],
      "metadata": {
        "id": "MMRTaWRyM6BB"
      },
      "execution_count": null,
      "outputs": []
    },
    {
      "cell_type": "code",
      "source": [
        "train_dataset = UCIHAR(default_path, split='train')\n",
        "test_dataset = UCIHAR(default_path, split='test')  \n",
        "\n",
        "print(\"Size of train dataset = %i\" % len(train_dataset))\n",
        "print(\"Size of test dataset = %i\" % len(test_dataset))"
      ],
      "metadata": {
        "colab": {
          "base_uri": "https://localhost:8080/"
        },
        "id": "3pV6of9Dbdal",
        "outputId": "d696bd95-c97c-41bd-8b99-f7620edda683"
      },
      "execution_count": null,
      "outputs": [
        {
          "output_type": "stream",
          "name": "stdout",
          "text": [
            "torch.Size([7352])\n",
            "torch.Size([7352, 9, 128])\n",
            "torch.Size([2947])\n",
            "torch.Size([2947, 9, 128])\n",
            "Size of train dataset = 7352\n",
            "Size of test dataset = 2947\n"
          ]
        }
      ]
    },
    {
      "cell_type": "code",
      "source": [
        "# 기본 변수\n",
        "n_features = train_dataset.n_features\n",
        "n_timesteps = train_dataset.n_timesteps\n",
        "n_labels = train_dataset.n_labels\n",
        "print(\"Size of features = %i\" % n_features )\n",
        "print(\"Size of timesteps = %i\" % n_timesteps)\n",
        "print(\"Size of labels = %i\" % n_labels)\n",
        "\n",
        "# 학습 파라미터\n",
        "batch_size = 64\n",
        "learning_rate = 1e-3\n",
        "training_epochs = 30\n",
        "    \n",
        "train_loader = DataLoader(dataset=train_dataset, batch_size=batch_size)\n",
        "test_loader = DataLoader(dataset=test_dataset, batch_size=batch_size)"
      ],
      "metadata": {
        "colab": {
          "base_uri": "https://localhost:8080/"
        },
        "id": "09eI0sUzcZn4",
        "outputId": "c8e58abe-41fd-46c4-c2b1-1b94aff9bfcf"
      },
      "execution_count": null,
      "outputs": [
        {
          "output_type": "stream",
          "name": "stdout",
          "text": [
            "Size of features = 9\n",
            "Size of timesteps = 128\n",
            "Size of labels = 6\n"
          ]
        }
      ]
    },
    {
      "cell_type": "markdown",
      "source": [
        "### Model definition\n",
        "#### CNN1D"
      ],
      "metadata": {
        "id": "Z4SDBOgRc6OI"
      }
    },
    {
      "cell_type": "code",
      "source": [
        "class CNN1D(nn.Module):\n",
        "    def __init__(self):\n",
        "        super(CNN1D, self).__init__()\n",
        "        self.layer=  nn.Sequential(\n",
        "            nn.Conv1d(in_channels = n_features, out_channels=64, kernel_size=3),\n",
        "            nn.ReLU(),\n",
        "            nn.Dropout(0.5),\n",
        "            nn.MaxPool1d(3),\n",
        "            nn.Flatten(),\n",
        "            nn.Linear(in_features=42*64, out_features=100),\n",
        "            nn.ReLU(),\n",
        "            nn.Linear(in_features=100, out_features=n_labels)           \n",
        "        )\n",
        "\n",
        "    \n",
        "    def forward(self, x):\n",
        "        output = self.layer(x)\n",
        "        return output"
      ],
      "metadata": {
        "id": "oGDdkOsRcfCC"
      },
      "execution_count": null,
      "outputs": []
    },
    {
      "cell_type": "code",
      "source": [
        "conv1d = CNN1D().to(device)\n",
        "print(conv1d)"
      ],
      "metadata": {
        "colab": {
          "base_uri": "https://localhost:8080/"
        },
        "id": "GVLp_nRqk57X",
        "outputId": "86b7a062-bb28-4539-d16b-5c678eae4e3b"
      },
      "execution_count": null,
      "outputs": [
        {
          "output_type": "stream",
          "name": "stdout",
          "text": [
            "CNN1D(\n",
            "  (layer): Sequential(\n",
            "    (0): Conv1d(9, 64, kernel_size=(3,), stride=(1,))\n",
            "    (1): ReLU()\n",
            "    (2): Dropout(p=0.5, inplace=False)\n",
            "    (3): MaxPool1d(kernel_size=3, stride=3, padding=0, dilation=1, ceil_mode=False)\n",
            "    (4): Flatten(start_dim=1, end_dim=-1)\n",
            "    (5): Linear(in_features=2688, out_features=100, bias=True)\n",
            "    (6): ReLU()\n",
            "    (7): Linear(in_features=100, out_features=6, bias=True)\n",
            "  )\n",
            ")\n"
          ]
        }
      ]
    },
    {
      "cell_type": "markdown",
      "source": [
        "#### LSTM"
      ],
      "metadata": {
        "id": "nOFUohTalQZM"
      }
    },
    {
      "cell_type": "code",
      "source": [
        "class LSTM(nn.Module):\n",
        "    def __init__(self):\n",
        "        super(LSTM, self).__init__()\n",
        "        self.layer1 = nn.LSTM(input_size=n_features, hidden_size=64, num_layers=3, batch_first=True)\n",
        "        self.layer2 = nn.Sequential(\n",
        "            nn.Dropout(0.5),\n",
        "            nn.MaxPool1d(3),\n",
        "            nn.Flatten(),\n",
        "            nn.Linear(in_features=42*64, out_features=100),\n",
        "            nn.ReLU(),\n",
        "            nn.Linear(in_features=100, out_features=n_labels))\n",
        "      \n",
        "    def forward(self, x):\n",
        "        output = self.layer1(x)[0]\n",
        "        output = self.layer2(output)\n",
        "       \n",
        "        return output\n"
      ],
      "metadata": {
        "id": "mzZPIQoqjIhq"
      },
      "execution_count": null,
      "outputs": []
    },
    {
      "cell_type": "code",
      "source": [
        "lstm = LSTM().to(device)\n",
        "print(lstm)"
      ],
      "metadata": {
        "id": "3Fu1qi0WkAS9",
        "colab": {
          "base_uri": "https://localhost:8080/"
        },
        "outputId": "a26924bd-4e5f-430f-cdef-81d2875cb3d9"
      },
      "execution_count": null,
      "outputs": [
        {
          "output_type": "stream",
          "name": "stdout",
          "text": [
            "LSTM(\n",
            "  (layer1): LSTM(9, 64, num_layers=3, batch_first=True)\n",
            "  (layer2): Sequential(\n",
            "    (0): Dropout(p=0.5, inplace=False)\n",
            "    (1): MaxPool1d(kernel_size=3, stride=3, padding=0, dilation=1, ceil_mode=False)\n",
            "    (2): Flatten(start_dim=1, end_dim=-1)\n",
            "    (3): Linear(in_features=2688, out_features=100, bias=True)\n",
            "    (4): ReLU()\n",
            "    (5): Linear(in_features=100, out_features=6, bias=True)\n",
            "  )\n",
            ")\n"
          ]
        }
      ]
    },
    {
      "cell_type": "markdown",
      "source": [
        "### Model Train\n",
        "#### CNN"
      ],
      "metadata": {
        "id": "rifd0ujykH--"
      }
    },
    {
      "cell_type": "code",
      "source": [
        "criterion = nn.CrossEntropyLoss().to(device)\n",
        "optimizer_1 = optim.Adam(conv1d.parameters(), lr=learning_rate) # optimizer 정의"
      ],
      "metadata": {
        "id": "ENdCEm5zh4bf"
      },
      "execution_count": null,
      "outputs": []
    },
    {
      "cell_type": "code",
      "source": [
        "criterion = nn.CrossEntropyLoss().to(device)\n",
        "optimizer_1 = optim.Adam(conv1d.parameters(), lr=learning_rate) # optimizer 정의\n",
        "\n",
        "loss_1 = [] # 그래프를 그리기 위한 loss 저장용 리스트\n",
        "acc_1 = [] # 그래프를 그리기 위한 accuracy 저장용 리스트\n",
        "n = len(train_loader)\n",
        "\n",
        "for epoch in range(training_epochs): \n",
        "    correct, total, total_loss_1 = 0, 0, 0\n",
        "    \n",
        "    for sample, label in train_loader:\n",
        "        sample, label = sample.to(device).float(), label.to(device).long()\n",
        "        \n",
        "        optimizer_1.zero_grad()# 초기화\n",
        "        \n",
        "        output = conv1d(sample) # 모델에서 훈련\n",
        "        loss = criterion(output, label) # 오차 계산\n",
        "        \n",
        "        loss.backward() # 역전파\n",
        "        optimizer_1.step() # 스텝(파라미터 업데이트)\n",
        "        \n",
        "        total_loss_1 += loss.item()\n",
        "        _, predicted = torch.max(output.data, 1)\n",
        "        total += label.size(0)\n",
        "        correct += (predicted == label).sum()\n",
        "    acc_train_1 = float(correct)/ len(train_loader.dataset)\n",
        "    \n",
        "    loss_1.append(total_loss_1/n)\n",
        "    acc_1.append(acc_train_1)\n",
        "    \n",
        "  \n",
        "    print(\"Epoch: {}/{} \".format(epoch+1, training_epochs),\n",
        "                  \"Loss: {:.4f} \".format(total_loss_1/n),\n",
        "\n",
        "                  \"Accuracy: {:.4f}\".format(acc_train_1))\n"
      ],
      "metadata": {
        "colab": {
          "base_uri": "https://localhost:8080/"
        },
        "id": "tP_iVEg8cfF7",
        "outputId": "87e6800d-c215-4c1f-91c5-4bb90bc7dc35"
      },
      "execution_count": null,
      "outputs": [
        {
          "output_type": "stream",
          "name": "stdout",
          "text": [
            "Epoch: 1/30  Loss: 0.8875  Accuracy: 0.6559\n",
            "Epoch: 2/30  Loss: 0.5241  Accuracy: 0.7711\n",
            "Epoch: 3/30  Loss: 0.4355  Accuracy: 0.8203\n",
            "Epoch: 4/30  Loss: 0.3615  Accuracy: 0.8569\n",
            "Epoch: 5/30  Loss: 0.3069  Accuracy: 0.8842\n",
            "Epoch: 6/30  Loss: 0.2781  Accuracy: 0.8959\n",
            "Epoch: 7/30  Loss: 0.2524  Accuracy: 0.9061\n",
            "Epoch: 8/30  Loss: 0.2271  Accuracy: 0.9153\n",
            "Epoch: 9/30  Loss: 0.1932  Accuracy: 0.9339\n",
            "Epoch: 10/30  Loss: 0.1669  Accuracy: 0.9392\n",
            "Epoch: 11/30  Loss: 0.1506  Accuracy: 0.9434\n",
            "Epoch: 12/30  Loss: 0.1364  Accuracy: 0.9498\n",
            "Epoch: 13/30  Loss: 0.1315  Accuracy: 0.9516\n",
            "Epoch: 14/30  Loss: 0.1290  Accuracy: 0.9514\n",
            "Epoch: 15/30  Loss: 0.1571  Accuracy: 0.9419\n",
            "Epoch: 16/30  Loss: 0.1806  Accuracy: 0.9358\n",
            "Epoch: 17/30  Loss: 0.1244  Accuracy: 0.9521\n",
            "Epoch: 18/30  Loss: 0.1201  Accuracy: 0.9520\n",
            "Epoch: 19/30  Loss: 0.1182  Accuracy: 0.9529\n",
            "Epoch: 20/30  Loss: 0.1176  Accuracy: 0.9533\n",
            "Epoch: 21/30  Loss: 0.1155  Accuracy: 0.9516\n",
            "Epoch: 22/30  Loss: 0.1147  Accuracy: 0.9527\n",
            "Epoch: 23/30  Loss: 0.1133  Accuracy: 0.9520\n",
            "Epoch: 24/30  Loss: 0.1134  Accuracy: 0.9521\n",
            "Epoch: 25/30  Loss: 0.1114  Accuracy: 0.9512\n",
            "Epoch: 26/30  Loss: 0.1102  Accuracy: 0.9521\n",
            "Epoch: 27/30  Loss: 0.1099  Accuracy: 0.9506\n",
            "Epoch: 28/30  Loss: 0.1089  Accuracy: 0.9506\n",
            "Epoch: 29/30  Loss: 0.1071  Accuracy: 0.9506\n",
            "Epoch: 30/30  Loss: 0.1065  Accuracy: 0.9499\n"
          ]
        }
      ]
    },
    {
      "cell_type": "markdown",
      "source": [
        "#### LSTM"
      ],
      "metadata": {
        "id": "c7NLN_6joTcq"
      }
    },
    {
      "cell_type": "code",
      "source": [
        "criterion = nn.CrossEntropyLoss().to(device) # loss function 정의\n",
        "optimizer_2 = optim.Adam(lstm.parameters(), lr=learning_rate) # optimizer 정의"
      ],
      "metadata": {
        "id": "X6--N46pnU7a"
      },
      "execution_count": null,
      "outputs": []
    },
    {
      "cell_type": "code",
      "source": [
        "loss_2 = [] # 그래프를 그리기 위한 loss 저장용 리스트\n",
        "acc_2 = [] # 그래프를 그리기 위한 accuracy 저장용 리스트\n",
        "n = len(train_loader)\n",
        "\n",
        "for epoch in range(training_epochs): \n",
        "    correct, total, total_loss_2 = 0, 0, 0\n",
        "    \n",
        "    for sample, label in train_loader:\n",
        "        sample, label = sample.to(device).transpose(2,1).float(), label.to(device).long()\n",
        "        \n",
        "        optimizer_2.zero_grad()# 초기화\n",
        "        \n",
        "        output = lstm(sample) # 모델에서 훈련\n",
        "        loss = criterion(output, label) # 오차 계산\n",
        "        \n",
        "        loss.backward() # 역전파\n",
        "        optimizer_2.step() # 스텝(파라미터 업데이트)\n",
        "        \n",
        "        total_loss_2 += loss.item()\n",
        "        _, predicted = torch.max(output.data, 1)\n",
        "        total += label.size(0)\n",
        "        correct += (predicted == label).sum()\n",
        "    acc_train_2 = float(correct) / len(train_loader.dataset)\n",
        "    \n",
        "    loss_2.append(total_loss_2/n)\n",
        "    acc_2.append(acc_train_2)\n",
        "    \n",
        "    print(\"Epoch: {}/{} \".format(epoch+1, training_epochs),\n",
        "                \"Loss: {:.4f} \".format(total_loss_2/n),\n",
        "\n",
        "                \"Accuracy: {:.4f}\".format(acc_train_2))\n",
        "\n"
      ],
      "metadata": {
        "colab": {
          "base_uri": "https://localhost:8080/"
        },
        "id": "vQV751Uol0U_",
        "outputId": "a7d94be2-171f-4f68-cf07-932deca009a2"
      },
      "execution_count": null,
      "outputs": [
        {
          "output_type": "stream",
          "name": "stdout",
          "text": [
            "Epoch: 1/30  Loss: 1.5031  Accuracy: 0.3594\n",
            "Epoch: 2/30  Loss: 1.3111  Accuracy: 0.3977\n",
            "Epoch: 3/30  Loss: 1.1100  Accuracy: 0.5019\n",
            "Epoch: 4/30  Loss: 0.7550  Accuracy: 0.6790\n",
            "Epoch: 5/30  Loss: 0.6652  Accuracy: 0.6961\n",
            "Epoch: 6/30  Loss: 0.4757  Accuracy: 0.7894\n",
            "Epoch: 7/30  Loss: 0.3693  Accuracy: 0.8444\n",
            "Epoch: 8/30  Loss: 0.3699  Accuracy: 0.8565\n",
            "Epoch: 9/30  Loss: 0.3287  Accuracy: 0.8761\n",
            "Epoch: 10/30  Loss: 0.2962  Accuracy: 0.8901\n",
            "Epoch: 11/30  Loss: 0.2362  Accuracy: 0.9136\n",
            "Epoch: 12/30  Loss: 0.2134  Accuracy: 0.9208\n",
            "Epoch: 13/30  Loss: 0.1964  Accuracy: 0.9313\n",
            "Epoch: 14/30  Loss: 0.2575  Accuracy: 0.9120\n",
            "Epoch: 15/30  Loss: 0.1957  Accuracy: 0.9376\n",
            "Epoch: 16/30  Loss: 0.1704  Accuracy: 0.9362\n",
            "Epoch: 17/30  Loss: 0.1668  Accuracy: 0.9416\n",
            "Epoch: 18/30  Loss: 0.1597  Accuracy: 0.9387\n",
            "Epoch: 19/30  Loss: 0.2165  Accuracy: 0.9263\n",
            "Epoch: 20/30  Loss: 0.1680  Accuracy: 0.9369\n",
            "Epoch: 21/30  Loss: 0.1505  Accuracy: 0.9444\n",
            "Epoch: 22/30  Loss: 0.1599  Accuracy: 0.9397\n",
            "Epoch: 23/30  Loss: 0.2347  Accuracy: 0.9212\n",
            "Epoch: 24/30  Loss: 0.1749  Accuracy: 0.9348\n",
            "Epoch: 25/30  Loss: 0.2256  Accuracy: 0.9260\n",
            "Epoch: 26/30  Loss: 0.1856  Accuracy: 0.9339\n",
            "Epoch: 27/30  Loss: 0.1572  Accuracy: 0.9406\n",
            "Epoch: 28/30  Loss: 0.1495  Accuracy: 0.9471\n",
            "Epoch: 29/30  Loss: 0.1390  Accuracy: 0.9474\n",
            "Epoch: 30/30  Loss: 0.1337  Accuracy: 0.9494\n"
          ]
        }
      ]
    },
    {
      "cell_type": "markdown",
      "source": [
        "### Model Test\n",
        "#### CNN"
      ],
      "metadata": {
        "id": "siUFyZCrnv0K"
      }
    },
    {
      "cell_type": "code",
      "source": [
        "pred_1 = []\n",
        "t_acc_1 = []\n",
        "\n",
        "total, correct = 0, 0\n",
        "\n",
        "with torch.no_grad():\n",
        "    conv1d.eval()\n",
        "    for sample, label in test_loader:\n",
        "        sample, label = sample.to(device).float(), label.to(device).long()\n",
        "        \n",
        "        output = conv1d(sample)\n",
        "        \n",
        "        _, predicted = torch.max(output.data, 1)\n",
        "        total += label.size(0) \n",
        "        correct += (predicted == label).sum().item()\n",
        "        accuracy = correct / total\n",
        "        \n",
        "        pred_1.append(predicted)\n",
        "        t_acc_1.append(accuracy)\n",
        "\n",
        "mean_accuracy_1 = np.mean(t_acc_1)\n",
        "\n",
        "# 정확도 출력\n",
        "print('Test Accuracy: ', round(mean_accuracy_1,4))\n"
      ],
      "metadata": {
        "id": "ucJy4MF8vuWw",
        "colab": {
          "base_uri": "https://localhost:8080/"
        },
        "outputId": "8f6580d9-0cf2-425e-8f8e-ab6b187d03ef"
      },
      "execution_count": null,
      "outputs": [
        {
          "output_type": "stream",
          "name": "stdout",
          "text": [
            "Test Accuracy:  0.8678\n"
          ]
        }
      ]
    },
    {
      "cell_type": "markdown",
      "source": [
        "#### LSTM"
      ],
      "metadata": {
        "id": "9tTT6N0-oYE9"
      }
    },
    {
      "cell_type": "code",
      "source": [
        "pred_2 = []\n",
        "t_acc_2 = []\n",
        "\n",
        "total, correct = 0, 0\n",
        "\n",
        "with torch.no_grad():\n",
        "    lstm.eval()\n",
        "    for sample, label in test_loader:\n",
        "        sample, label = sample.to(device).transpose(2,1).float(), label.to(device).long()\n",
        "        \n",
        "        output = lstm(sample)\n",
        "        \n",
        "        _, predicted = torch.max(output.data, 1)\n",
        "        total += label.size(0) \n",
        "        correct += (predicted == label).sum().item()\n",
        "        accuracy = correct / total\n",
        "        \n",
        "        pred_2.append(predicted)\n",
        "        t_acc_2.append(accuracy)\n",
        "\n",
        "mean_accuracy_2 = np.mean(t_acc_2)\n",
        "\n",
        "# 정확도 출력\n",
        "print('Test Accuracy: ', round(mean_accuracy_2,4))"
      ],
      "metadata": {
        "colab": {
          "base_uri": "https://localhost:8080/"
        },
        "id": "7HIch3rPl3aW",
        "outputId": "a3de302e-be9b-4f51-f11a-c487d3bd3e33"
      },
      "execution_count": null,
      "outputs": [
        {
          "output_type": "stream",
          "name": "stdout",
          "text": [
            "Test Accuracy:  0.7889\n"
          ]
        }
      ]
    },
    {
      "cell_type": "code",
      "source": [
        "# Plotting\n",
        "plt.plot(loss_1,label='Conv1D')\n",
        "plt.plot(loss_2,label='LSTM')\n",
        "plt.xlabel(\"epoch\")\n",
        "plt.legend()\n",
        "plt.title('Loss')\n",
        "plt.show()\n",
        "\n",
        "plt.plot(acc_1,label='Conv1D')\n",
        "plt.plot(acc_2,label='LSTM')\n",
        "plt.xlabel(\"epoch\")\n",
        "plt.legend()\n",
        "plt.title('Train Accuracy')\n",
        "plt.show()\n",
        "\n",
        "plt.bar(np.arange(2),[mean_accuracy_1,mean_accuracy_2])\n",
        "plt.xticks(np.arange(2),['Conv1D','LSTM'])\n",
        "plt.title('Test Accuracy')\n",
        "plt.show()\n"
      ],
      "metadata": {
        "colab": {
          "base_uri": "https://localhost:8080/",
          "height": 837
        },
        "id": "bGCGInHFohhu",
        "outputId": "240a1830-c6fd-4269-e196-08373d0a178d"
      },
      "execution_count": null,
      "outputs": [
        {
          "output_type": "display_data",
          "data": {
            "text/plain": [
              "<Figure size 432x288 with 1 Axes>"
            ],
            "image/png": "[encoded data removed]"
          },
          "metadata": {
            "needs_background": "light"
          }
        },
        {
          "output_type": "display_data",
          "data": {
            "text/plain": [
              "<Figure size 432x288 with 1 Axes>"
            ],
            "image/png": "[encoded data removed]"
          },
          "metadata": {
            "needs_background": "light"
          }
        },
        {
          "output_type": "display_data",
          "data": {
            "text/plain": [
              "<Figure size 432x288 with 1 Axes>"
            ],
            "image/png": "[encoded data removed]"
          },
          "metadata": {
            "needs_background": "light"
          }
        }
      ]
    },
    {
      "cell_type": "markdown",
      "source": [
        "### Confusion Matrix 그리기"
      ],
      "metadata": {
        "id": "e42MphT1qrwS"
      }
    },
    {
      "cell_type": "code",
      "source": [
        "# https://deeplizard.com/learn/video/0LhiS6yu2qQ\n",
        "def plot_confusion_matrix(cm, classes, normalize=False, title='Confusion matrix', cmap=plt.cm.Blues):\n",
        "    if normalize:\n",
        "        cm = cm.astype('float') / cm.sum(axis=1)[:, np.newaxis]\n",
        "\n",
        "    # print(cm)\n",
        "    figure = plt.figure(figsize=(8,8))\n",
        "    plt.imshow(cm, interpolation='nearest', cmap=cmap)\n",
        "    plt.title(title)\n",
        "    plt.colorbar()\n",
        "    tick_marks = np.arange(len(classes))\n",
        "    plt.xticks(tick_marks, classes, rotation=45)\n",
        "    plt.yticks(tick_marks, classes)\n",
        "\n",
        "    fmt = '.2f' if normalize else 'd'\n",
        "    thresh = cm.max() / 2.\n",
        "    for i, j in itertools.product(range(cm.shape[0]), range(cm.shape[1])):\n",
        "        plt.text(j, i, format(cm[i, j], fmt), horizontalalignment=\"center\", color=\"white\" if cm[i, j] > thresh else \"black\")\n",
        "\n",
        "    plt.tight_layout()\n",
        "    plt.ylabel('True label')\n",
        "    plt.xlabel('Predicted label')"
      ],
      "metadata": {
        "id": "jhvR6Ue2qq6C"
      },
      "execution_count": null,
      "outputs": []
    },
    {
      "cell_type": "code",
      "source": [
        "def cm(pred_,model_name):\n",
        "    classes = ['WALKING', 'WALKING_UPSTAIRS', 'WALKING_DOWNSTAIRS', 'SITTING', 'STANDING', 'LAYING']\n",
        "    c_predict = []\n",
        "    for _ in range(len(pred_)):\n",
        "        for xx in pred_[_].tolist():\n",
        "            c_predict.append(xx)\n",
        "    cm=confusion_matrix(test_dataset.y.tolist(),c_predict)\n",
        "    plot_confusion_matrix(cm,classes ,normalize=True,title= model_name+' Confusion matrix')"
      ],
      "metadata": {
        "id": "ncDGD9pqquCg"
      },
      "execution_count": null,
      "outputs": []
    },
    {
      "cell_type": "code",
      "source": [
        "cm(pred_1,'Conv1D')"
      ],
      "metadata": {
        "colab": {
          "base_uri": "https://localhost:8080/",
          "height": 562
        },
        "id": "6To5EuX_rIlL",
        "outputId": "946a60a9-8b54-4c95-a369-b282e0f9429e"
      },
      "execution_count": 24,
      "outputs": [
        {
          "output_type": "display_data",
          "data": {
            "text/plain": [
              "<Figure size 576x576 with 2 Axes>"
            ],
            "image/png": "[encoded data removed]"
          },
          "metadata": {
            "needs_background": "light"
          }
        }
      ]
    },
    {
      "cell_type": "code",
      "source": [
        "cm(pred_2,'LSTM')"
      ],
      "metadata": {
        "colab": {
          "base_uri": "https://localhost:8080/",
          "height": 562
        },
        "id": "la0Rv8sIrI53",
        "outputId": "8a71f940-ceb6-4bce-a3c2-9212e2639521"
      },
      "execution_count": null,
      "outputs": [
        {
          "output_type": "display_data",
          "data": {
            "text/plain": [
              "<Figure size 576x576 with 2 Axes>"
            ],
            "image/png": "[encoded data removed]"
          },
          "metadata": {
            "needs_background": "light"
          }
        }
      ]
    },
    {
      "cell_type": "code",
      "source": [
        ""
      ],
      "metadata": {
        "id": "SvzVAM3JsAU_"
      },
      "execution_count": null,
      "outputs": []
    }
  ]
}